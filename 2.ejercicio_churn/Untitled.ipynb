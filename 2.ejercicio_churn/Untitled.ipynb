{
 "cells": [
  {
   "cell_type": "markdown",
   "id": "db818a9a",
   "metadata": {},
   "source": [
    "# Datos de diciembre"
   ]
  },
  {
   "cell_type": "code",
   "execution_count": 1,
   "id": "22f0b81f",
   "metadata": {},
   "outputs": [],
   "source": [
    "import pandas as pd\n",
    "dic_clientes = pd.read_csv(\"clientes_diciembre.csv\", sep = \"|\")\n",
    "dic_consumos = pd.read_csv(\"consumos_diciembre.csv\", sep = \"|\")\n",
    "dic_fin = pd.read_csv(\"financiacion_diciembre.csv\", sep = \"|\")\n",
    "dic_prod = pd.read_csv(\"productos_diciembre.csv\", sep = \"|\")"
   ]
  },
  {
   "cell_type": "code",
   "execution_count": 2,
   "id": "e29e4bc3",
   "metadata": {},
   "outputs": [
    {
     "name": "stdout",
     "output_type": "stream",
     "text": [
      "Tamaño de tabla de consumos diciembre: 95467\n",
      "Tamaño de tabla de clientes diciembre: 95467\n",
      "Tamaño de tabla de financiación diciembre: 24198\n",
      "Tamaño de tabla de productos diciembre: 95467\n"
     ]
    }
   ],
   "source": [
    "print('Tamaño de tabla de consumos diciembre:',dic_consumos.shape[0])\n",
    "print('Tamaño de tabla de clientes diciembre:',dic_clientes.shape[0])\n",
    "print('Tamaño de tabla de financiación diciembre:',dic_fin.shape[0])\n",
    "print('Tamaño de tabla de productos diciembre:',dic_prod.shape[0])"
   ]
  },
  {
   "cell_type": "markdown",
   "id": "743af38d",
   "metadata": {},
   "source": [
    "Miro si los ids son los mismos para contatenar las tablas"
   ]
  },
  {
   "cell_type": "code",
   "execution_count": 3,
   "id": "4159edeb",
   "metadata": {},
   "outputs": [
    {
     "name": "stdout",
     "output_type": "stream",
     "text": [
      "Clientes en tabla financiacion\n",
      " False    71269\n",
      "True     24198\n",
      "Name: id, dtype: int64\n",
      "Clientes en tabla consumos\n",
      " True    95467\n",
      "Name: id, dtype: int64\n",
      "Clientes en tabla productos\n",
      " True    95467\n",
      "Name: id, dtype: int64\n"
     ]
    }
   ],
   "source": [
    "print('Clientes en tabla financiacion\\n', dic_clientes['id'].isin(dic_fin['id']).value_counts())\n",
    "print('Clientes en tabla consumos\\n',dic_clientes['id'].isin(dic_consumos['id']).value_counts())\n",
    "print('Clientes en tabla productos\\n',dic_clientes['id'].isin(dic_prod['id']).value_counts())"
   ]
  },
  {
   "cell_type": "code",
   "execution_count": 4,
   "id": "a6b03d75",
   "metadata": {},
   "outputs": [],
   "source": [
    "dic_cl_con = pd.merge(dic_clientes, dic_consumos, on = \"id\", how = \"left\")\n",
    "dic_cl_con_f = pd.merge(dic_cl_con, dic_fin, on= \"id\", how = \"left\")\n",
    "dic_full = pd.merge(dic_cl_con_f, dic_prod, on = \"id\", how = \"left\")\n",
    "del dic_cl_con\n",
    "del dic_cl_con_f"
   ]
  },
  {
   "cell_type": "markdown",
   "id": "c2130b17",
   "metadata": {},
   "source": [
    "# Datos de enero"
   ]
  },
  {
   "cell_type": "code",
   "execution_count": 5,
   "id": "6054fe33",
   "metadata": {},
   "outputs": [],
   "source": [
    "en_clientes = pd.read_csv(\"clientes_enero.csv\", sep = \"|\", parse_dates = [\"antiguedad\"])\n",
    "en_consumos = pd.read_csv(\"consumos_enero.csv\", sep = \"|\")\n",
    "en_fin = pd.read_csv(\"financiacion_enero.csv\", sep = \"|\")\n",
    "en_prod = pd.read_csv(\"productos_enero.csv\", sep = \"|\")"
   ]
  },
  {
   "cell_type": "code",
   "execution_count": 6,
   "id": "9897866b",
   "metadata": {},
   "outputs": [
    {
     "name": "stdout",
     "output_type": "stream",
     "text": [
      "Tamaño de tabla de consumos enero: 92711\n",
      "Tamaño de tabla de clientes enero: 92711\n",
      "Tamaño de tabla de financiación enero: 25332\n",
      "Tamaño de tabla de productos enero: 92711\n"
     ]
    }
   ],
   "source": [
    "print('Tamaño de tabla de consumos enero:',en_consumos.shape[0])\n",
    "print('Tamaño de tabla de clientes enero:',en_clientes.shape[0])\n",
    "print('Tamaño de tabla de financiación enero:',en_fin.shape[0])\n",
    "print('Tamaño de tabla de productos enero:',en_prod.shape[0])"
   ]
  },
  {
   "cell_type": "code",
   "execution_count": 7,
   "id": "63ea3ced",
   "metadata": {},
   "outputs": [
    {
     "name": "stdout",
     "output_type": "stream",
     "text": [
      "Clientes en tabla financiacion\n",
      " False    67379\n",
      "True     25332\n",
      "Name: id, dtype: int64\n",
      "Clientes en tabla consumos\n",
      " True    92711\n",
      "Name: id, dtype: int64\n",
      "Clientes en tabla productos\n",
      " True    92711\n",
      "Name: id, dtype: int64\n"
     ]
    }
   ],
   "source": [
    "print('Clientes en tabla financiacion\\n', en_clientes['id'].isin(en_fin['id']).value_counts())\n",
    "print('Clientes en tabla consumos\\n',en_clientes['id'].isin(en_consumos['id']).value_counts())\n",
    "print('Clientes en tabla productos\\n',en_clientes['id'].isin(en_prod['id']).value_counts())"
   ]
  },
  {
   "cell_type": "code",
   "execution_count": 8,
   "id": "0294d8a0",
   "metadata": {},
   "outputs": [],
   "source": [
    "en_cl_con = pd.merge(en_clientes, en_consumos, on = \"id\", how = \"left\")\n",
    "en_cl_con_f = pd.merge(en_cl_con, en_fin, on = \"id\", how = \"left\")\n",
    "en_full = pd.merge(en_cl_con_f, en_prod, on = \"id\", how = \"left\")\n",
    "del en_cl_con\n",
    "del en_cl_con_f"
   ]
  },
  {
   "cell_type": "markdown",
   "id": "282d8d57",
   "metadata": {},
   "source": [
    "# Clientes perdidos"
   ]
  },
  {
   "cell_type": "code",
   "execution_count": 9,
   "id": "d5dcecc7",
   "metadata": {},
   "outputs": [
    {
     "name": "stdout",
     "output_type": "stream",
     "text": [
      "Clientes en Enero:  92711\n",
      "Clientes en Diciembre:  95467\n",
      "Se han ido:  7085  clientes\n",
      "En enero hay  2756 clientes menos que en diciembre\n"
     ]
    }
   ],
   "source": [
    "print('Clientes en Enero: ',len(en_full['id'].unique()))\n",
    "print('Clientes en Diciembre: ',len(dic_full['id'].unique()))\n",
    "print('Se han ido: ', len(dic_full) - dic_full.id.isin(en_full.id).sum(), ' clientes')\n",
    "print('En enero hay ', len(dic_full['id'].unique()) - len(en_full['id'].unique()), 'clientes menos que en diciembre')"
   ]
  },
  {
   "cell_type": "markdown",
   "id": "9d3aa344",
   "metadata": {},
   "source": [
    "# Variable objetivo"
   ]
  },
  {
   "cell_type": "markdown",
   "id": "86554f57",
   "metadata": {},
   "source": [
    "Creo la variable objetivo, 0 si el cliente sigue en la empresa, 1 si el cliente se ha ido."
   ]
  },
  {
   "cell_type": "code",
   "execution_count": 10,
   "id": "f7276b6d",
   "metadata": {},
   "outputs": [],
   "source": [
    "import numpy as np\n",
    "churn = pd.DataFrame()\n",
    "churn['churn'] = np.where(dic_full.id.isin(en_full.id) == True, 0, 1)\n",
    "churn['id'] =dic_full['id'] "
   ]
  },
  {
   "cell_type": "markdown",
   "id": "3e690a07",
   "metadata": {},
   "source": [
    "# Antiguedad del cliente"
   ]
  },
  {
   "cell_type": "markdown",
   "id": "d894b23d",
   "metadata": {},
   "source": [
    "Creo una nueva variable 'duracion', que es el tiempo que lleva el cliente en la empresa."
   ]
  },
  {
   "cell_type": "code",
   "execution_count": 11,
   "id": "07971786",
   "metadata": {},
   "outputs": [],
   "source": [
    "dic_full['antiguedad'] = pd.to_datetime(dic_full['antiguedad'])\n",
    "en_full['antiguedad'] = pd.to_datetime(dic_full['antiguedad'])"
   ]
  },
  {
   "cell_type": "code",
   "execution_count": 12,
   "id": "d256c95f",
   "metadata": {},
   "outputs": [],
   "source": [
    "from datetime import datetime\n",
    "dic_full['duracion'] = (datetime(2019,12,31) - dic_full[\"antiguedad\"])\n",
    "en_full['duracion'] = (datetime(2020,1,31) - en_full[\"antiguedad\"])"
   ]
  },
  {
   "cell_type": "code",
   "execution_count": 13,
   "id": "8c19bccf",
   "metadata": {},
   "outputs": [
    {
     "data": {
      "text/html": [
       "<div>\n",
       "<style scoped>\n",
       "    .dataframe tbody tr th:only-of-type {\n",
       "        vertical-align: middle;\n",
       "    }\n",
       "\n",
       "    .dataframe tbody tr th {\n",
       "        vertical-align: top;\n",
       "    }\n",
       "\n",
       "    .dataframe thead th {\n",
       "        text-align: right;\n",
       "    }\n",
       "</style>\n",
       "<table border=\"1\" class=\"dataframe\">\n",
       "  <thead>\n",
       "    <tr style=\"text-align: right;\">\n",
       "      <th></th>\n",
       "      <th>id</th>\n",
       "      <th>edad</th>\n",
       "      <th>facturacion</th>\n",
       "      <th>antiguedad</th>\n",
       "      <th>provincia</th>\n",
       "      <th>num_lineas</th>\n",
       "      <th>num_dt</th>\n",
       "      <th>incidencia</th>\n",
       "      <th>num_llamad_ent</th>\n",
       "      <th>num_llamad_sal</th>\n",
       "      <th>mb_datos</th>\n",
       "      <th>seg_llamad_ent</th>\n",
       "      <th>seg_llamad_sal</th>\n",
       "      <th>financiacion</th>\n",
       "      <th>imp_financ</th>\n",
       "      <th>descuentos</th>\n",
       "      <th>conexion</th>\n",
       "      <th>vel_conexion</th>\n",
       "      <th>TV</th>\n",
       "      <th>duracion</th>\n",
       "    </tr>\n",
       "  </thead>\n",
       "  <tbody>\n",
       "    <tr>\n",
       "      <th>0</th>\n",
       "      <td>1</td>\n",
       "      <td>63</td>\n",
       "      <td>216.028109</td>\n",
       "      <td>2018-11-23 08:48:00</td>\n",
       "      <td>La Rioja</td>\n",
       "      <td>5</td>\n",
       "      <td>NaN</td>\n",
       "      <td>NaN</td>\n",
       "      <td>110</td>\n",
       "      <td>79</td>\n",
       "      <td>10897</td>\n",
       "      <td>12806</td>\n",
       "      <td>13751</td>\n",
       "      <td>NaN</td>\n",
       "      <td>NaN</td>\n",
       "      <td>NaN</td>\n",
       "      <td>FIBRA</td>\n",
       "      <td>50MB</td>\n",
       "      <td>tv-futbol</td>\n",
       "      <td>402 days 15:12:00</td>\n",
       "    </tr>\n",
       "    <tr>\n",
       "      <th>1</th>\n",
       "      <td>2</td>\n",
       "      <td>84</td>\n",
       "      <td>255.830842</td>\n",
       "      <td>2017-08-22 03:19:00</td>\n",
       "      <td>Vizcaya</td>\n",
       "      <td>3</td>\n",
       "      <td>NaN</td>\n",
       "      <td>NaN</td>\n",
       "      <td>189</td>\n",
       "      <td>89</td>\n",
       "      <td>18657</td>\n",
       "      <td>6499</td>\n",
       "      <td>10862</td>\n",
       "      <td>NaN</td>\n",
       "      <td>NaN</td>\n",
       "      <td>SI</td>\n",
       "      <td>FIBRA</td>\n",
       "      <td>600MB</td>\n",
       "      <td>tv-futbol</td>\n",
       "      <td>860 days 20:41:00</td>\n",
       "    </tr>\n",
       "    <tr>\n",
       "      <th>2</th>\n",
       "      <td>3</td>\n",
       "      <td>66</td>\n",
       "      <td>135.768153</td>\n",
       "      <td>2001-12-27 13:50:00</td>\n",
       "      <td>Albacete</td>\n",
       "      <td>4</td>\n",
       "      <td>NaN</td>\n",
       "      <td>NaN</td>\n",
       "      <td>129</td>\n",
       "      <td>30</td>\n",
       "      <td>15511</td>\n",
       "      <td>17013</td>\n",
       "      <td>16743</td>\n",
       "      <td>NaN</td>\n",
       "      <td>NaN</td>\n",
       "      <td>SI</td>\n",
       "      <td>ADSL</td>\n",
       "      <td>35MB</td>\n",
       "      <td>tv-futbol</td>\n",
       "      <td>6577 days 10:10:00</td>\n",
       "    </tr>\n",
       "    <tr>\n",
       "      <th>3</th>\n",
       "      <td>4</td>\n",
       "      <td>69</td>\n",
       "      <td>255.658527</td>\n",
       "      <td>2015-08-08 10:53:00</td>\n",
       "      <td>Lugo</td>\n",
       "      <td>4</td>\n",
       "      <td>NaN</td>\n",
       "      <td>NaN</td>\n",
       "      <td>51</td>\n",
       "      <td>52</td>\n",
       "      <td>12670</td>\n",
       "      <td>3393</td>\n",
       "      <td>6771</td>\n",
       "      <td>NaN</td>\n",
       "      <td>NaN</td>\n",
       "      <td>NaN</td>\n",
       "      <td>FIBRA</td>\n",
       "      <td>200MB</td>\n",
       "      <td>tv-familiar</td>\n",
       "      <td>1605 days 13:07:00</td>\n",
       "    </tr>\n",
       "    <tr>\n",
       "      <th>4</th>\n",
       "      <td>5</td>\n",
       "      <td>30</td>\n",
       "      <td>22.302845</td>\n",
       "      <td>1997-08-29 02:19:00</td>\n",
       "      <td>Tarragona</td>\n",
       "      <td>2</td>\n",
       "      <td>2.0</td>\n",
       "      <td>NaN</td>\n",
       "      <td>183</td>\n",
       "      <td>3</td>\n",
       "      <td>23756</td>\n",
       "      <td>18436</td>\n",
       "      <td>4485</td>\n",
       "      <td>NaN</td>\n",
       "      <td>NaN</td>\n",
       "      <td>NaN</td>\n",
       "      <td>ADSL</td>\n",
       "      <td>10MB</td>\n",
       "      <td>tv-futbol</td>\n",
       "      <td>8158 days 21:41:00</td>\n",
       "    </tr>\n",
       "  </tbody>\n",
       "</table>\n",
       "</div>"
      ],
      "text/plain": [
       "   id  edad  facturacion          antiguedad  provincia  num_lineas  num_dt  \\\n",
       "0   1    63   216.028109 2018-11-23 08:48:00   La Rioja           5     NaN   \n",
       "1   2    84   255.830842 2017-08-22 03:19:00    Vizcaya           3     NaN   \n",
       "2   3    66   135.768153 2001-12-27 13:50:00   Albacete           4     NaN   \n",
       "3   4    69   255.658527 2015-08-08 10:53:00       Lugo           4     NaN   \n",
       "4   5    30    22.302845 1997-08-29 02:19:00  Tarragona           2     2.0   \n",
       "\n",
       "  incidencia  num_llamad_ent  num_llamad_sal  mb_datos  seg_llamad_ent  \\\n",
       "0        NaN             110              79     10897           12806   \n",
       "1        NaN             189              89     18657            6499   \n",
       "2        NaN             129              30     15511           17013   \n",
       "3        NaN              51              52     12670            3393   \n",
       "4        NaN             183               3     23756           18436   \n",
       "\n",
       "   seg_llamad_sal financiacion  imp_financ descuentos conexion vel_conexion  \\\n",
       "0           13751          NaN         NaN        NaN    FIBRA         50MB   \n",
       "1           10862          NaN         NaN         SI    FIBRA        600MB   \n",
       "2           16743          NaN         NaN         SI     ADSL         35MB   \n",
       "3            6771          NaN         NaN        NaN    FIBRA        200MB   \n",
       "4            4485          NaN         NaN        NaN     ADSL         10MB   \n",
       "\n",
       "            TV           duracion  \n",
       "0    tv-futbol  402 days 15:12:00  \n",
       "1    tv-futbol  860 days 20:41:00  \n",
       "2    tv-futbol 6577 days 10:10:00  \n",
       "3  tv-familiar 1605 days 13:07:00  \n",
       "4    tv-futbol 8158 days 21:41:00  "
      ]
     },
     "execution_count": 13,
     "metadata": {},
     "output_type": "execute_result"
    }
   ],
   "source": [
    "dic_full.head()"
   ]
  },
  {
   "cell_type": "markdown",
   "id": "6a89c2e3",
   "metadata": {},
   "source": [
    "# Diciembre y Enero"
   ]
  },
  {
   "cell_type": "code",
   "execution_count": 14,
   "id": "d37d8e25",
   "metadata": {},
   "outputs": [],
   "source": [
    "dic_full[\"mes\"] = \"dic\"\n",
    "en_full[\"mes\"] = \"en\""
   ]
  },
  {
   "cell_type": "code",
   "execution_count": 15,
   "id": "e6b04acb",
   "metadata": {},
   "outputs": [
    {
     "data": {
      "text/plain": [
       "(188178, 21)"
      ]
     },
     "execution_count": 15,
     "metadata": {},
     "output_type": "execute_result"
    }
   ],
   "source": [
    "data = pd.concat([dic_full, en_full], sort = False, ignore_index=True)\n",
    "data.shape"
   ]
  },
  {
   "cell_type": "code",
   "execution_count": 16,
   "id": "606c1167",
   "metadata": {},
   "outputs": [
    {
     "data": {
      "text/html": [
       "<div>\n",
       "<style scoped>\n",
       "    .dataframe tbody tr th:only-of-type {\n",
       "        vertical-align: middle;\n",
       "    }\n",
       "\n",
       "    .dataframe tbody tr th {\n",
       "        vertical-align: top;\n",
       "    }\n",
       "\n",
       "    .dataframe thead th {\n",
       "        text-align: right;\n",
       "    }\n",
       "</style>\n",
       "<table border=\"1\" class=\"dataframe\">\n",
       "  <thead>\n",
       "    <tr style=\"text-align: right;\">\n",
       "      <th></th>\n",
       "      <th>id</th>\n",
       "      <th>edad</th>\n",
       "      <th>facturacion</th>\n",
       "      <th>antiguedad</th>\n",
       "      <th>provincia</th>\n",
       "      <th>num_lineas</th>\n",
       "      <th>num_dt</th>\n",
       "      <th>incidencia</th>\n",
       "      <th>num_llamad_ent</th>\n",
       "      <th>num_llamad_sal</th>\n",
       "      <th>...</th>\n",
       "      <th>seg_llamad_ent</th>\n",
       "      <th>seg_llamad_sal</th>\n",
       "      <th>financiacion</th>\n",
       "      <th>imp_financ</th>\n",
       "      <th>descuentos</th>\n",
       "      <th>conexion</th>\n",
       "      <th>vel_conexion</th>\n",
       "      <th>TV</th>\n",
       "      <th>duracion</th>\n",
       "      <th>mes</th>\n",
       "    </tr>\n",
       "  </thead>\n",
       "  <tbody>\n",
       "    <tr>\n",
       "      <th>0</th>\n",
       "      <td>1</td>\n",
       "      <td>63</td>\n",
       "      <td>216.028109</td>\n",
       "      <td>2018-11-23 08:48:00</td>\n",
       "      <td>La Rioja</td>\n",
       "      <td>5</td>\n",
       "      <td>NaN</td>\n",
       "      <td>NaN</td>\n",
       "      <td>110</td>\n",
       "      <td>79</td>\n",
       "      <td>...</td>\n",
       "      <td>12806</td>\n",
       "      <td>13751</td>\n",
       "      <td>NaN</td>\n",
       "      <td>NaN</td>\n",
       "      <td>NaN</td>\n",
       "      <td>FIBRA</td>\n",
       "      <td>50MB</td>\n",
       "      <td>tv-futbol</td>\n",
       "      <td>402 days 15:12:00</td>\n",
       "      <td>dic</td>\n",
       "    </tr>\n",
       "    <tr>\n",
       "      <th>1</th>\n",
       "      <td>2</td>\n",
       "      <td>84</td>\n",
       "      <td>255.830842</td>\n",
       "      <td>2017-08-22 03:19:00</td>\n",
       "      <td>Vizcaya</td>\n",
       "      <td>3</td>\n",
       "      <td>NaN</td>\n",
       "      <td>NaN</td>\n",
       "      <td>189</td>\n",
       "      <td>89</td>\n",
       "      <td>...</td>\n",
       "      <td>6499</td>\n",
       "      <td>10862</td>\n",
       "      <td>NaN</td>\n",
       "      <td>NaN</td>\n",
       "      <td>SI</td>\n",
       "      <td>FIBRA</td>\n",
       "      <td>600MB</td>\n",
       "      <td>tv-futbol</td>\n",
       "      <td>860 days 20:41:00</td>\n",
       "      <td>dic</td>\n",
       "    </tr>\n",
       "    <tr>\n",
       "      <th>2</th>\n",
       "      <td>3</td>\n",
       "      <td>66</td>\n",
       "      <td>135.768153</td>\n",
       "      <td>2001-12-27 13:50:00</td>\n",
       "      <td>Albacete</td>\n",
       "      <td>4</td>\n",
       "      <td>NaN</td>\n",
       "      <td>NaN</td>\n",
       "      <td>129</td>\n",
       "      <td>30</td>\n",
       "      <td>...</td>\n",
       "      <td>17013</td>\n",
       "      <td>16743</td>\n",
       "      <td>NaN</td>\n",
       "      <td>NaN</td>\n",
       "      <td>SI</td>\n",
       "      <td>ADSL</td>\n",
       "      <td>35MB</td>\n",
       "      <td>tv-futbol</td>\n",
       "      <td>6577 days 10:10:00</td>\n",
       "      <td>dic</td>\n",
       "    </tr>\n",
       "    <tr>\n",
       "      <th>3</th>\n",
       "      <td>4</td>\n",
       "      <td>69</td>\n",
       "      <td>255.658527</td>\n",
       "      <td>2015-08-08 10:53:00</td>\n",
       "      <td>Lugo</td>\n",
       "      <td>4</td>\n",
       "      <td>NaN</td>\n",
       "      <td>NaN</td>\n",
       "      <td>51</td>\n",
       "      <td>52</td>\n",
       "      <td>...</td>\n",
       "      <td>3393</td>\n",
       "      <td>6771</td>\n",
       "      <td>NaN</td>\n",
       "      <td>NaN</td>\n",
       "      <td>NaN</td>\n",
       "      <td>FIBRA</td>\n",
       "      <td>200MB</td>\n",
       "      <td>tv-familiar</td>\n",
       "      <td>1605 days 13:07:00</td>\n",
       "      <td>dic</td>\n",
       "    </tr>\n",
       "    <tr>\n",
       "      <th>4</th>\n",
       "      <td>5</td>\n",
       "      <td>30</td>\n",
       "      <td>22.302845</td>\n",
       "      <td>1997-08-29 02:19:00</td>\n",
       "      <td>Tarragona</td>\n",
       "      <td>2</td>\n",
       "      <td>2.0</td>\n",
       "      <td>NaN</td>\n",
       "      <td>183</td>\n",
       "      <td>3</td>\n",
       "      <td>...</td>\n",
       "      <td>18436</td>\n",
       "      <td>4485</td>\n",
       "      <td>NaN</td>\n",
       "      <td>NaN</td>\n",
       "      <td>NaN</td>\n",
       "      <td>ADSL</td>\n",
       "      <td>10MB</td>\n",
       "      <td>tv-futbol</td>\n",
       "      <td>8158 days 21:41:00</td>\n",
       "      <td>dic</td>\n",
       "    </tr>\n",
       "  </tbody>\n",
       "</table>\n",
       "<p>5 rows × 21 columns</p>\n",
       "</div>"
      ],
      "text/plain": [
       "   id  edad  facturacion          antiguedad  provincia  num_lineas  num_dt  \\\n",
       "0   1    63   216.028109 2018-11-23 08:48:00   La Rioja           5     NaN   \n",
       "1   2    84   255.830842 2017-08-22 03:19:00    Vizcaya           3     NaN   \n",
       "2   3    66   135.768153 2001-12-27 13:50:00   Albacete           4     NaN   \n",
       "3   4    69   255.658527 2015-08-08 10:53:00       Lugo           4     NaN   \n",
       "4   5    30    22.302845 1997-08-29 02:19:00  Tarragona           2     2.0   \n",
       "\n",
       "  incidencia  num_llamad_ent  num_llamad_sal  ...  seg_llamad_ent  \\\n",
       "0        NaN             110              79  ...           12806   \n",
       "1        NaN             189              89  ...            6499   \n",
       "2        NaN             129              30  ...           17013   \n",
       "3        NaN              51              52  ...            3393   \n",
       "4        NaN             183               3  ...           18436   \n",
       "\n",
       "   seg_llamad_sal  financiacion imp_financ  descuentos conexion vel_conexion  \\\n",
       "0           13751           NaN        NaN         NaN    FIBRA         50MB   \n",
       "1           10862           NaN        NaN          SI    FIBRA        600MB   \n",
       "2           16743           NaN        NaN          SI     ADSL         35MB   \n",
       "3            6771           NaN        NaN         NaN    FIBRA        200MB   \n",
       "4            4485           NaN        NaN         NaN     ADSL         10MB   \n",
       "\n",
       "            TV           duracion  mes  \n",
       "0    tv-futbol  402 days 15:12:00  dic  \n",
       "1    tv-futbol  860 days 20:41:00  dic  \n",
       "2    tv-futbol 6577 days 10:10:00  dic  \n",
       "3  tv-familiar 1605 days 13:07:00  dic  \n",
       "4    tv-futbol 8158 days 21:41:00  dic  \n",
       "\n",
       "[5 rows x 21 columns]"
      ]
     },
     "execution_count": 16,
     "metadata": {},
     "output_type": "execute_result"
    }
   ],
   "source": [
    "data.head(5)"
   ]
  },
  {
   "cell_type": "markdown",
   "id": "b8d60671",
   "metadata": {},
   "source": [
    "# Transformación de variables"
   ]
  },
  {
   "cell_type": "code",
   "execution_count": null,
   "id": "1eeb2a19",
   "metadata": {},
   "outputs": [],
   "source": []
  }
 ],
 "metadata": {
  "kernelspec": {
   "display_name": "Python 3 (ipykernel)",
   "language": "python",
   "name": "python3"
  },
  "language_info": {
   "codemirror_mode": {
    "name": "ipython",
    "version": 3
   },
   "file_extension": ".py",
   "mimetype": "text/x-python",
   "name": "python",
   "nbconvert_exporter": "python",
   "pygments_lexer": "ipython3",
   "version": "3.9.13"
  }
 },
 "nbformat": 4,
 "nbformat_minor": 5
}
