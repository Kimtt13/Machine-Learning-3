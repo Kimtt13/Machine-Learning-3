{
 "cells": [
  {
   "cell_type": "code",
   "execution_count": 332,
   "id": "71e70a28",
   "metadata": {},
   "outputs": [],
   "source": [
    "import pandas as pd\n",
    "from sklearn.model_selection import train_test_split\n",
    "import numpy as np"
   ]
  },
  {
   "cell_type": "code",
   "execution_count": 262,
   "id": "28434af4",
   "metadata": {},
   "outputs": [],
   "source": [
    "df_clientes = pd.read_csv('diciembre/clientes_diciembre.csv', sep='|')\n",
    "df_productos = pd.read_csv('diciembre/productos_diciembre.csv', sep='|')\n",
    "df_finan = pd.read_csv('diciembre/financiacion_diciembre.csv', sep='|')\n",
    "df_consumo = pd.read_csv('diciembre/consumos_diciembre.csv', sep='|')"
   ]
  },
  {
   "cell_type": "code",
   "execution_count": 263,
   "id": "5af883b3",
   "metadata": {},
   "outputs": [
    {
     "name": "stdout",
     "output_type": "stream",
     "text": [
      "True    95467\n",
      "Name: id, dtype: int64\n",
      "True    24198\n",
      "Name: id, dtype: int64\n",
      "True    95467\n",
      "Name: id, dtype: int64\n"
     ]
    }
   ],
   "source": [
    "print(df_productos['id'].isin(df_clientes['id']).value_counts())\n",
    "print(df_finan['id'].isin(df_clientes['id']).value_counts())\n",
    "print(df_consumo['id'].isin(df_clientes['id']).value_counts())"
   ]
  },
  {
   "cell_type": "code",
   "execution_count": 264,
   "id": "ccdf198f",
   "metadata": {},
   "outputs": [
    {
     "name": "stdout",
     "output_type": "stream",
     "text": [
      "95467\n",
      "24198\n",
      "95467\n",
      "95467\n"
     ]
    }
   ],
   "source": [
    "print(len(df_clientes['id'].unique()))\n",
    "print(len(df_finan['id'].unique()))\n",
    "print(len(df_productos['id'].unique()))\n",
    "print(len(df_consumo['id'].unique()))"
   ]
  },
  {
   "cell_type": "code",
   "execution_count": 265,
   "id": "7d40bd51",
   "metadata": {},
   "outputs": [],
   "source": [
    "df_total_diciembre = pd.merge(df_clientes,df_productos, on=['id'], how='left')\n",
    "df_total_diciembre = pd.merge(df_total_diciembre,df_finan, on=['id'], how='left')\n",
    "df_total_diciembre = pd.merge(df_total_diciembre,df_consumo, on=['id'], how='left')"
   ]
  },
  {
   "cell_type": "code",
   "execution_count": 266,
   "id": "8aff6845",
   "metadata": {},
   "outputs": [],
   "source": [
    "del df_clientes\n",
    "del df_productos\n",
    "del df_consumo\n",
    "del df_finan"
   ]
  },
  {
   "cell_type": "code",
   "execution_count": 267,
   "id": "7de55137",
   "metadata": {},
   "outputs": [
    {
     "data": {
      "text/html": [
       "<div>\n",
       "<style scoped>\n",
       "    .dataframe tbody tr th:only-of-type {\n",
       "        vertical-align: middle;\n",
       "    }\n",
       "\n",
       "    .dataframe tbody tr th {\n",
       "        vertical-align: top;\n",
       "    }\n",
       "\n",
       "    .dataframe thead th {\n",
       "        text-align: right;\n",
       "    }\n",
       "</style>\n",
       "<table border=\"1\" class=\"dataframe\">\n",
       "  <thead>\n",
       "    <tr style=\"text-align: right;\">\n",
       "      <th></th>\n",
       "      <th>id</th>\n",
       "      <th>edad</th>\n",
       "      <th>facturacion</th>\n",
       "      <th>antiguedad</th>\n",
       "      <th>provincia</th>\n",
       "      <th>num_lineas</th>\n",
       "      <th>num_dt</th>\n",
       "      <th>incidencia</th>\n",
       "      <th>conexion</th>\n",
       "      <th>vel_conexion</th>\n",
       "      <th>TV</th>\n",
       "      <th>financiacion</th>\n",
       "      <th>imp_financ</th>\n",
       "      <th>descuentos</th>\n",
       "      <th>num_llamad_ent</th>\n",
       "      <th>num_llamad_sal</th>\n",
       "      <th>mb_datos</th>\n",
       "      <th>seg_llamad_ent</th>\n",
       "      <th>seg_llamad_sal</th>\n",
       "    </tr>\n",
       "  </thead>\n",
       "  <tbody>\n",
       "    <tr>\n",
       "      <th>0</th>\n",
       "      <td>1</td>\n",
       "      <td>63</td>\n",
       "      <td>216.028109</td>\n",
       "      <td>2018-11-23 08:48:00</td>\n",
       "      <td>La Rioja</td>\n",
       "      <td>5</td>\n",
       "      <td>NaN</td>\n",
       "      <td>NaN</td>\n",
       "      <td>FIBRA</td>\n",
       "      <td>50MB</td>\n",
       "      <td>tv-futbol</td>\n",
       "      <td>NaN</td>\n",
       "      <td>NaN</td>\n",
       "      <td>NaN</td>\n",
       "      <td>110</td>\n",
       "      <td>79</td>\n",
       "      <td>10897</td>\n",
       "      <td>12806</td>\n",
       "      <td>13751</td>\n",
       "    </tr>\n",
       "    <tr>\n",
       "      <th>1</th>\n",
       "      <td>2</td>\n",
       "      <td>84</td>\n",
       "      <td>255.830842</td>\n",
       "      <td>2017-08-22 03:19:00</td>\n",
       "      <td>Vizcaya</td>\n",
       "      <td>3</td>\n",
       "      <td>NaN</td>\n",
       "      <td>NaN</td>\n",
       "      <td>FIBRA</td>\n",
       "      <td>600MB</td>\n",
       "      <td>tv-futbol</td>\n",
       "      <td>NaN</td>\n",
       "      <td>NaN</td>\n",
       "      <td>SI</td>\n",
       "      <td>189</td>\n",
       "      <td>89</td>\n",
       "      <td>18657</td>\n",
       "      <td>6499</td>\n",
       "      <td>10862</td>\n",
       "    </tr>\n",
       "    <tr>\n",
       "      <th>2</th>\n",
       "      <td>3</td>\n",
       "      <td>66</td>\n",
       "      <td>135.768153</td>\n",
       "      <td>2001-12-27 13:50:00</td>\n",
       "      <td>Albacete</td>\n",
       "      <td>4</td>\n",
       "      <td>NaN</td>\n",
       "      <td>NaN</td>\n",
       "      <td>ADSL</td>\n",
       "      <td>35MB</td>\n",
       "      <td>tv-futbol</td>\n",
       "      <td>NaN</td>\n",
       "      <td>NaN</td>\n",
       "      <td>SI</td>\n",
       "      <td>129</td>\n",
       "      <td>30</td>\n",
       "      <td>15511</td>\n",
       "      <td>17013</td>\n",
       "      <td>16743</td>\n",
       "    </tr>\n",
       "    <tr>\n",
       "      <th>3</th>\n",
       "      <td>4</td>\n",
       "      <td>69</td>\n",
       "      <td>255.658527</td>\n",
       "      <td>2015-08-08 10:53:00</td>\n",
       "      <td>Lugo</td>\n",
       "      <td>4</td>\n",
       "      <td>NaN</td>\n",
       "      <td>NaN</td>\n",
       "      <td>FIBRA</td>\n",
       "      <td>200MB</td>\n",
       "      <td>tv-familiar</td>\n",
       "      <td>NaN</td>\n",
       "      <td>NaN</td>\n",
       "      <td>NaN</td>\n",
       "      <td>51</td>\n",
       "      <td>52</td>\n",
       "      <td>12670</td>\n",
       "      <td>3393</td>\n",
       "      <td>6771</td>\n",
       "    </tr>\n",
       "    <tr>\n",
       "      <th>4</th>\n",
       "      <td>5</td>\n",
       "      <td>30</td>\n",
       "      <td>22.302845</td>\n",
       "      <td>1997-08-29 02:19:00</td>\n",
       "      <td>Tarragona</td>\n",
       "      <td>2</td>\n",
       "      <td>2.0</td>\n",
       "      <td>NaN</td>\n",
       "      <td>ADSL</td>\n",
       "      <td>10MB</td>\n",
       "      <td>tv-futbol</td>\n",
       "      <td>NaN</td>\n",
       "      <td>NaN</td>\n",
       "      <td>NaN</td>\n",
       "      <td>183</td>\n",
       "      <td>3</td>\n",
       "      <td>23756</td>\n",
       "      <td>18436</td>\n",
       "      <td>4485</td>\n",
       "    </tr>\n",
       "    <tr>\n",
       "      <th>...</th>\n",
       "      <td>...</td>\n",
       "      <td>...</td>\n",
       "      <td>...</td>\n",
       "      <td>...</td>\n",
       "      <td>...</td>\n",
       "      <td>...</td>\n",
       "      <td>...</td>\n",
       "      <td>...</td>\n",
       "      <td>...</td>\n",
       "      <td>...</td>\n",
       "      <td>...</td>\n",
       "      <td>...</td>\n",
       "      <td>...</td>\n",
       "      <td>...</td>\n",
       "      <td>...</td>\n",
       "      <td>...</td>\n",
       "      <td>...</td>\n",
       "      <td>...</td>\n",
       "      <td>...</td>\n",
       "    </tr>\n",
       "    <tr>\n",
       "      <th>95462</th>\n",
       "      <td>99995</td>\n",
       "      <td>65</td>\n",
       "      <td>173.741667</td>\n",
       "      <td>2019-03-05 00:00:00</td>\n",
       "      <td>Murcia</td>\n",
       "      <td>5</td>\n",
       "      <td>NaN</td>\n",
       "      <td>NaN</td>\n",
       "      <td>ADSL</td>\n",
       "      <td>35MB</td>\n",
       "      <td>tv-familiar</td>\n",
       "      <td>SI</td>\n",
       "      <td>23.138779</td>\n",
       "      <td>NaN</td>\n",
       "      <td>121</td>\n",
       "      <td>98</td>\n",
       "      <td>13403</td>\n",
       "      <td>6197</td>\n",
       "      <td>6853</td>\n",
       "    </tr>\n",
       "    <tr>\n",
       "      <th>95463</th>\n",
       "      <td>99996</td>\n",
       "      <td>36</td>\n",
       "      <td>215.890326</td>\n",
       "      <td>2013-04-09 13:33:00</td>\n",
       "      <td>Guadalajara</td>\n",
       "      <td>3</td>\n",
       "      <td>NaN</td>\n",
       "      <td>NaN</td>\n",
       "      <td>ADSL</td>\n",
       "      <td>30MB</td>\n",
       "      <td>tv-futbol</td>\n",
       "      <td>NaN</td>\n",
       "      <td>NaN</td>\n",
       "      <td>NaN</td>\n",
       "      <td>98</td>\n",
       "      <td>13</td>\n",
       "      <td>5291</td>\n",
       "      <td>3684</td>\n",
       "      <td>1667</td>\n",
       "    </tr>\n",
       "    <tr>\n",
       "      <th>95464</th>\n",
       "      <td>99997</td>\n",
       "      <td>68</td>\n",
       "      <td>285.890750</td>\n",
       "      <td>2003-08-08 23:57:00</td>\n",
       "      <td>Asturias</td>\n",
       "      <td>5</td>\n",
       "      <td>NaN</td>\n",
       "      <td>NaN</td>\n",
       "      <td>FIBRA</td>\n",
       "      <td>200MB</td>\n",
       "      <td>tv-futbol</td>\n",
       "      <td>SI</td>\n",
       "      <td>14.616422</td>\n",
       "      <td>NaN</td>\n",
       "      <td>226</td>\n",
       "      <td>20</td>\n",
       "      <td>20002</td>\n",
       "      <td>572</td>\n",
       "      <td>5679</td>\n",
       "    </tr>\n",
       "    <tr>\n",
       "      <th>95465</th>\n",
       "      <td>99998</td>\n",
       "      <td>20</td>\n",
       "      <td>383.167610</td>\n",
       "      <td>2013-03-27 20:07:00</td>\n",
       "      <td>Álava</td>\n",
       "      <td>4</td>\n",
       "      <td>NaN</td>\n",
       "      <td>NaN</td>\n",
       "      <td>ADSL</td>\n",
       "      <td>20MB</td>\n",
       "      <td>tv-futbol</td>\n",
       "      <td>NaN</td>\n",
       "      <td>NaN</td>\n",
       "      <td>NaN</td>\n",
       "      <td>126</td>\n",
       "      <td>26</td>\n",
       "      <td>16448</td>\n",
       "      <td>833</td>\n",
       "      <td>14398</td>\n",
       "    </tr>\n",
       "    <tr>\n",
       "      <th>95466</th>\n",
       "      <td>100000</td>\n",
       "      <td>18</td>\n",
       "      <td>57.158927</td>\n",
       "      <td>2009-10-22 19:17:00</td>\n",
       "      <td>Las Palmas</td>\n",
       "      <td>4</td>\n",
       "      <td>NaN</td>\n",
       "      <td>NaN</td>\n",
       "      <td>ADSL</td>\n",
       "      <td>25MB</td>\n",
       "      <td>tv-familiar</td>\n",
       "      <td>NaN</td>\n",
       "      <td>NaN</td>\n",
       "      <td>SI</td>\n",
       "      <td>85</td>\n",
       "      <td>25</td>\n",
       "      <td>17933</td>\n",
       "      <td>18617</td>\n",
       "      <td>2115</td>\n",
       "    </tr>\n",
       "  </tbody>\n",
       "</table>\n",
       "<p>95467 rows × 19 columns</p>\n",
       "</div>"
      ],
      "text/plain": [
       "           id  edad  facturacion           antiguedad    provincia  \\\n",
       "0           1    63   216.028109  2018-11-23 08:48:00     La Rioja   \n",
       "1           2    84   255.830842  2017-08-22 03:19:00      Vizcaya   \n",
       "2           3    66   135.768153  2001-12-27 13:50:00     Albacete   \n",
       "3           4    69   255.658527  2015-08-08 10:53:00         Lugo   \n",
       "4           5    30    22.302845  1997-08-29 02:19:00    Tarragona   \n",
       "...       ...   ...          ...                  ...          ...   \n",
       "95462   99995    65   173.741667  2019-03-05 00:00:00       Murcia   \n",
       "95463   99996    36   215.890326  2013-04-09 13:33:00  Guadalajara   \n",
       "95464   99997    68   285.890750  2003-08-08 23:57:00     Asturias   \n",
       "95465   99998    20   383.167610  2013-03-27 20:07:00        Álava   \n",
       "95466  100000    18    57.158927  2009-10-22 19:17:00   Las Palmas   \n",
       "\n",
       "       num_lineas  num_dt incidencia conexion vel_conexion           TV  \\\n",
       "0               5     NaN        NaN    FIBRA         50MB    tv-futbol   \n",
       "1               3     NaN        NaN    FIBRA        600MB    tv-futbol   \n",
       "2               4     NaN        NaN     ADSL         35MB    tv-futbol   \n",
       "3               4     NaN        NaN    FIBRA        200MB  tv-familiar   \n",
       "4               2     2.0        NaN     ADSL         10MB    tv-futbol   \n",
       "...           ...     ...        ...      ...          ...          ...   \n",
       "95462           5     NaN        NaN     ADSL         35MB  tv-familiar   \n",
       "95463           3     NaN        NaN     ADSL         30MB    tv-futbol   \n",
       "95464           5     NaN        NaN    FIBRA        200MB    tv-futbol   \n",
       "95465           4     NaN        NaN     ADSL         20MB    tv-futbol   \n",
       "95466           4     NaN        NaN     ADSL         25MB  tv-familiar   \n",
       "\n",
       "      financiacion  imp_financ descuentos  num_llamad_ent  num_llamad_sal  \\\n",
       "0              NaN         NaN        NaN             110              79   \n",
       "1              NaN         NaN         SI             189              89   \n",
       "2              NaN         NaN         SI             129              30   \n",
       "3              NaN         NaN        NaN              51              52   \n",
       "4              NaN         NaN        NaN             183               3   \n",
       "...            ...         ...        ...             ...             ...   \n",
       "95462           SI   23.138779        NaN             121              98   \n",
       "95463          NaN         NaN        NaN              98              13   \n",
       "95464           SI   14.616422        NaN             226              20   \n",
       "95465          NaN         NaN        NaN             126              26   \n",
       "95466          NaN         NaN         SI              85              25   \n",
       "\n",
       "       mb_datos  seg_llamad_ent  seg_llamad_sal  \n",
       "0         10897           12806           13751  \n",
       "1         18657            6499           10862  \n",
       "2         15511           17013           16743  \n",
       "3         12670            3393            6771  \n",
       "4         23756           18436            4485  \n",
       "...         ...             ...             ...  \n",
       "95462     13403            6197            6853  \n",
       "95463      5291            3684            1667  \n",
       "95464     20002             572            5679  \n",
       "95465     16448             833           14398  \n",
       "95466     17933           18617            2115  \n",
       "\n",
       "[95467 rows x 19 columns]"
      ]
     },
     "execution_count": 267,
     "metadata": {},
     "output_type": "execute_result"
    }
   ],
   "source": [
    "df_total_diciembre"
   ]
  },
  {
   "cell_type": "code",
   "execution_count": 268,
   "id": "63c84dfb",
   "metadata": {},
   "outputs": [],
   "source": [
    "df_clientes = pd.read_csv('enero/clientes_enero.csv', sep='|')\n",
    "df_productos = pd.read_csv('enero/productos_enero.csv', sep='|')\n",
    "df_finan = pd.read_csv('enero/financiacion_enero.csv', sep='|')\n",
    "df_consumo = pd.read_csv('enero/consumos_enero.csv', sep='|')"
   ]
  },
  {
   "cell_type": "code",
   "execution_count": 269,
   "id": "5202d95f",
   "metadata": {},
   "outputs": [
    {
     "name": "stdout",
     "output_type": "stream",
     "text": [
      "True    92711\n",
      "Name: id, dtype: int64\n",
      "True    25332\n",
      "Name: id, dtype: int64\n",
      "True    92711\n",
      "Name: id, dtype: int64\n"
     ]
    }
   ],
   "source": [
    "print(df_productos['id'].isin(df_clientes['id']).value_counts())\n",
    "print(df_finan['id'].isin(df_clientes['id']).value_counts())\n",
    "print(df_consumo['id'].isin(df_clientes['id']).value_counts())"
   ]
  },
  {
   "cell_type": "code",
   "execution_count": 270,
   "id": "ef8b952e",
   "metadata": {},
   "outputs": [
    {
     "name": "stdout",
     "output_type": "stream",
     "text": [
      "92711\n",
      "25332\n",
      "92711\n",
      "92711\n"
     ]
    }
   ],
   "source": [
    "print(len(df_clientes['id'].unique()))\n",
    "print(len(df_finan['id'].unique()))\n",
    "print(len(df_productos['id'].unique()))\n",
    "print(len(df_consumo['id'].unique()))"
   ]
  },
  {
   "cell_type": "code",
   "execution_count": 271,
   "id": "d99063b4",
   "metadata": {},
   "outputs": [],
   "source": [
    "df_total_enero = pd.merge(df_clientes,df_productos, on=['id'], how='left')\n",
    "df_total_enero = pd.merge(df_total_enero,df_finan, on=['id'], how='left')\n",
    "df_total_enero = pd.merge(df_total_enero,df_consumo, on=['id'], how='left')"
   ]
  },
  {
   "cell_type": "code",
   "execution_count": 272,
   "id": "cdde5ad4",
   "metadata": {},
   "outputs": [],
   "source": [
    "del df_clientes\n",
    "del df_productos\n",
    "del df_consumo\n",
    "del df_finan"
   ]
  },
  {
   "cell_type": "code",
   "execution_count": 273,
   "id": "e0f706b3",
   "metadata": {},
   "outputs": [
    {
     "data": {
      "text/plain": [
       "(92711, 19)"
      ]
     },
     "execution_count": 273,
     "metadata": {},
     "output_type": "execute_result"
    }
   ],
   "source": [
    "df_total_enero.shape"
   ]
  },
  {
   "cell_type": "code",
   "execution_count": 274,
   "id": "d6b7735d",
   "metadata": {},
   "outputs": [
    {
     "data": {
      "text/plain": [
       "(95467, 19)"
      ]
     },
     "execution_count": 274,
     "metadata": {},
     "output_type": "execute_result"
    }
   ],
   "source": [
    "df_total_diciembre.shape"
   ]
  },
  {
   "cell_type": "code",
   "execution_count": 275,
   "id": "b73b8d2a",
   "metadata": {},
   "outputs": [
    {
     "data": {
      "text/plain": [
       "True     88382\n",
       "False     7085\n",
       "Name: id, dtype: int64"
      ]
     },
     "execution_count": 275,
     "metadata": {},
     "output_type": "execute_result"
    }
   ],
   "source": [
    "df_total_diciembre['id'].isin(df_total_enero['id']).value_counts()"
   ]
  },
  {
   "cell_type": "code",
   "execution_count": 276,
   "id": "211b3b6b",
   "metadata": {},
   "outputs": [],
   "source": [
    "target = df_total_diciembre['id'].isin(df_total_enero['id'])"
   ]
  },
  {
   "cell_type": "code",
   "execution_count": 277,
   "id": "53d64a35",
   "metadata": {},
   "outputs": [],
   "source": [
    "target = target.replace({True:0, False:1})"
   ]
  },
  {
   "cell_type": "code",
   "execution_count": 325,
   "id": "90ad7e66",
   "metadata": {},
   "outputs": [
    {
     "data": {
      "text/plain": [
       "0        0\n",
       "1        0\n",
       "2        0\n",
       "3        0\n",
       "4        1\n",
       "        ..\n",
       "95462    0\n",
       "95463    0\n",
       "95464    0\n",
       "95465    0\n",
       "95466    0\n",
       "Name: id, Length: 95467, dtype: int64"
      ]
     },
     "execution_count": 325,
     "metadata": {},
     "output_type": "execute_result"
    }
   ],
   "source": [
    "target"
   ]
  },
  {
   "cell_type": "code",
   "execution_count": 279,
   "id": "6547fd4f",
   "metadata": {},
   "outputs": [],
   "source": [
    "df_total_diciembre['conjunto'] = 'diciembre'"
   ]
  },
  {
   "cell_type": "code",
   "execution_count": 280,
   "id": "cb11fb11",
   "metadata": {},
   "outputs": [],
   "source": [
    "df_total_enero['conjunto'] = 'enero'"
   ]
  },
  {
   "cell_type": "code",
   "execution_count": 281,
   "id": "5cce3ff2",
   "metadata": {},
   "outputs": [],
   "source": [
    "df_total_diciembre['antiguedad'] = (pd.to_datetime('31-12-2019')- pd.to_datetime(df_total_diciembre['antiguedad'])).dt.days"
   ]
  },
  {
   "cell_type": "code",
   "execution_count": 282,
   "id": "2e82682e",
   "metadata": {},
   "outputs": [],
   "source": [
    "df_total_enero['antiguedad'] = (pd.to_datetime('31-01-2020')- pd.to_datetime(df_total_enero['antiguedad'])).dt.days"
   ]
  },
  {
   "cell_type": "code",
   "execution_count": 283,
   "id": "2e40cbf6",
   "metadata": {},
   "outputs": [],
   "source": [
    "df_total = pd.concat([df_total_diciembre, df_total_enero], axis=0)"
   ]
  },
  {
   "cell_type": "code",
   "execution_count": 284,
   "id": "54c2accb",
   "metadata": {},
   "outputs": [],
   "source": [
    "df_total.reset_index(drop=True, inplace=True)"
   ]
  },
  {
   "cell_type": "markdown",
   "id": "72175184",
   "metadata": {},
   "source": [
    "### Rellenado de nulos"
   ]
  },
  {
   "cell_type": "code",
   "execution_count": 285,
   "id": "9037d615",
   "metadata": {},
   "outputs": [
    {
     "data": {
      "text/plain": [
       "id                     0\n",
       "edad                   0\n",
       "facturacion            0\n",
       "antiguedad             0\n",
       "provincia              0\n",
       "num_lineas             0\n",
       "num_dt            180835\n",
       "incidencia        182613\n",
       "conexion               2\n",
       "vel_conexion           6\n",
       "TV                     0\n",
       "financiacion      175140\n",
       "imp_financ        175140\n",
       "descuentos        148986\n",
       "num_llamad_ent         0\n",
       "num_llamad_sal         0\n",
       "mb_datos               0\n",
       "seg_llamad_ent         0\n",
       "seg_llamad_sal         0\n",
       "conjunto               0\n",
       "dtype: int64"
      ]
     },
     "execution_count": 285,
     "metadata": {},
     "output_type": "execute_result"
    }
   ],
   "source": [
    "df_total.isnull().sum()"
   ]
  },
  {
   "cell_type": "code",
   "execution_count": 286,
   "id": "fc42ead5",
   "metadata": {},
   "outputs": [
    {
     "data": {
      "text/plain": [
       "4.0    1891\n",
       "3.0    1822\n",
       "1.0    1817\n",
       "2.0    1813\n",
       "Name: num_dt, dtype: int64"
      ]
     },
     "execution_count": 286,
     "metadata": {},
     "output_type": "execute_result"
    }
   ],
   "source": [
    "df_total['num_dt'].value_counts()"
   ]
  },
  {
   "cell_type": "code",
   "execution_count": 287,
   "id": "3b035712",
   "metadata": {},
   "outputs": [
    {
     "data": {
      "text/plain": [
       "SI    5565\n",
       "Name: incidencia, dtype: int64"
      ]
     },
     "execution_count": 287,
     "metadata": {},
     "output_type": "execute_result"
    }
   ],
   "source": [
    "df_total['incidencia'].value_counts()"
   ]
  },
  {
   "cell_type": "code",
   "execution_count": 288,
   "id": "024ef202",
   "metadata": {},
   "outputs": [],
   "source": [
    "df_total['financiacion'].fillna(0, axis=0, inplace=True)"
   ]
  },
  {
   "cell_type": "code",
   "execution_count": 289,
   "id": "831034b9",
   "metadata": {},
   "outputs": [],
   "source": [
    "df_total['imp_financ'].fillna(0, axis=0, inplace=True)"
   ]
  },
  {
   "cell_type": "code",
   "execution_count": 290,
   "id": "ee2a1270",
   "metadata": {},
   "outputs": [],
   "source": [
    "df_total['descuentos'].fillna(0, axis=0, inplace=True)"
   ]
  },
  {
   "cell_type": "code",
   "execution_count": 291,
   "id": "6ba38b81",
   "metadata": {},
   "outputs": [],
   "source": [
    "df_total['incidencia'].fillna(0, axis=0, inplace=True)"
   ]
  },
  {
   "cell_type": "code",
   "execution_count": 292,
   "id": "6853d05f",
   "metadata": {},
   "outputs": [],
   "source": [
    "df_total['num_dt'].fillna(0, axis=0, inplace=True)"
   ]
  },
  {
   "cell_type": "code",
   "execution_count": 293,
   "id": "919f30b1",
   "metadata": {},
   "outputs": [],
   "source": [
    "df_total['vel_conexion'].fillna(df_total['vel_conexion'].mode()[0], axis=0, inplace=True)"
   ]
  },
  {
   "cell_type": "code",
   "execution_count": 294,
   "id": "53986163",
   "metadata": {},
   "outputs": [],
   "source": [
    "df_total['conexion'].fillna(df_total['conexion'].mode()[0], axis=0, inplace=True)"
   ]
  },
  {
   "cell_type": "markdown",
   "id": "b95fca46",
   "metadata": {},
   "source": [
    "### Conversión numérica"
   ]
  },
  {
   "cell_type": "code",
   "execution_count": 305,
   "id": "c1faff03",
   "metadata": {},
   "outputs": [
    {
     "data": {
      "text/plain": [
       "id                  int64\n",
       "edad                int64\n",
       "facturacion       float64\n",
       "antiguedad          int64\n",
       "provincia           int32\n",
       "num_lineas          int64\n",
       "num_dt            float64\n",
       "incidencia          int64\n",
       "conexion           object\n",
       "vel_conexion        int32\n",
       "TV                 object\n",
       "financiacion        int64\n",
       "imp_financ        float64\n",
       "descuentos          int64\n",
       "num_llamad_ent      int64\n",
       "num_llamad_sal      int64\n",
       "mb_datos            int64\n",
       "seg_llamad_ent      int64\n",
       "seg_llamad_sal      int64\n",
       "conjunto           object\n",
       "dtype: object"
      ]
     },
     "execution_count": 305,
     "metadata": {},
     "output_type": "execute_result"
    }
   ],
   "source": [
    "df_total.dtypes"
   ]
  },
  {
   "cell_type": "code",
   "execution_count": 296,
   "id": "2d29ba91",
   "metadata": {},
   "outputs": [
    {
     "data": {
      "text/plain": [
       "200MB    19023\n",
       "600MB    18921\n",
       "300MB    18672\n",
       "50MB     18641\n",
       "100MB    18431\n",
       "20MB     15995\n",
       "25MB     15952\n",
       "10MB     15776\n",
       "30MB     15709\n",
       "35MB     15619\n",
       "15MB     15436\n",
       "16598        1\n",
       "1            1\n",
       "?            1\n",
       "Name: vel_conexion, dtype: int64"
      ]
     },
     "execution_count": 296,
     "metadata": {},
     "output_type": "execute_result"
    }
   ],
   "source": [
    "df_total['vel_conexion'].value_counts()"
   ]
  },
  {
   "cell_type": "code",
   "execution_count": 297,
   "id": "d67d29f1",
   "metadata": {},
   "outputs": [],
   "source": [
    "df_total['vel_conexion'].replace('16598', '200MB', inplace=True)\n",
    "df_total['vel_conexion'].replace('1', '200MB', inplace=True)\n",
    "df_total['vel_conexion'].replace('?', '200MB', inplace=True)"
   ]
  },
  {
   "cell_type": "code",
   "execution_count": 298,
   "id": "a1ef91c2",
   "metadata": {},
   "outputs": [],
   "source": [
    "df_total['vel_conexion'] = df_total['vel_conexion'].str.replace('MB', '')"
   ]
  },
  {
   "cell_type": "code",
   "execution_count": 299,
   "id": "283bf7ed",
   "metadata": {},
   "outputs": [],
   "source": [
    "df_total['vel_conexion'] = df_total['vel_conexion'].astype(int)"
   ]
  },
  {
   "cell_type": "code",
   "execution_count": 300,
   "id": "975a409e",
   "metadata": {},
   "outputs": [],
   "source": [
    "lista_si = ['incidencia', 'financiacion', 'descuentos']"
   ]
  },
  {
   "cell_type": "code",
   "execution_count": 301,
   "id": "cb35fb3b",
   "metadata": {
    "scrolled": true
   },
   "outputs": [
    {
     "name": "stdout",
     "output_type": "stream",
     "text": [
      "incidencia\n",
      "0     182613\n",
      "SI      5565\n",
      "Name: incidencia, dtype: int64\n",
      "0    182613\n",
      "1      5565\n",
      "Name: incidencia, dtype: int64\n",
      "financiacion\n",
      "0     175140\n",
      "SI     13038\n",
      "Name: financiacion, dtype: int64\n",
      "0    175140\n",
      "1     13038\n",
      "Name: financiacion, dtype: int64\n",
      "descuentos\n",
      "0     148986\n",
      "SI     39192\n",
      "Name: descuentos, dtype: int64\n",
      "0    148986\n",
      "1     39192\n",
      "Name: descuentos, dtype: int64\n"
     ]
    }
   ],
   "source": [
    "for i in lista_si:\n",
    "    print(i)\n",
    "    print(df_total[i].value_counts())\n",
    "    df_total[i].replace('SI', 1, inplace=True)\n",
    "    print(df_total[i].value_counts())\n",
    "    "
   ]
  },
  {
   "cell_type": "code",
   "execution_count": 302,
   "id": "b219193d",
   "metadata": {},
   "outputs": [],
   "source": [
    "lista_categorica = ['provincia', 'conexion', 'TV']"
   ]
  },
  {
   "cell_type": "code",
   "execution_count": 303,
   "id": "2c9d6853",
   "metadata": {},
   "outputs": [
    {
     "data": {
      "text/plain": [
       "50"
      ]
     },
     "execution_count": 303,
     "metadata": {},
     "output_type": "execute_result"
    }
   ],
   "source": [
    "len(df_total['provincia'].unique())"
   ]
  },
  {
   "cell_type": "raw",
   "id": "0054f7c6",
   "metadata": {},
   "source": [
    "ccaa = pd.read_html('https://es.wikipedia.org/wiki/Anexo:Provincias_y_ciudades_aut%C3%B3nomas_de_Espa%C3%B1a')[0]\n",
    "ccaa = ccaa[['Nombre', 'Comunidad autónoma']]\n",
    "ccaa.rename(columns = {'Nombre':'provincia'}, inplace = True)\n",
    "ccaa.replace('Baleares', 'Islas Baleares', inplace=True)\n",
    "df_total = pd.merge(df_total, ccaa, on=['provincia'], how='left')\n",
    "df_total.drop('provincia', axis=1, inplace=True)\n",
    "len(df_total['Comunidad autónoma'].unique())"
   ]
  },
  {
   "cell_type": "code",
   "execution_count": 304,
   "id": "07e2abef",
   "metadata": {},
   "outputs": [],
   "source": [
    "from sklearn.preprocessing import LabelEncoder\n",
    "le = LabelEncoder()\n",
    "le.fit(df_total['provincia'].unique())\n",
    "df_total['provincia'] = le.transform(df_total['provincia'])\n"
   ]
  },
  {
   "cell_type": "code",
   "execution_count": 308,
   "id": "cb219fe6",
   "metadata": {},
   "outputs": [],
   "source": [
    "df_conexion = pd.get_dummies(df_total['conexion'], drop_first=True)"
   ]
  },
  {
   "cell_type": "code",
   "execution_count": 310,
   "id": "eaff0780",
   "metadata": {},
   "outputs": [],
   "source": [
    "df_total['FIBRA'] = df_conexion['FIBRA'] "
   ]
  },
  {
   "cell_type": "code",
   "execution_count": 314,
   "id": "8570b04b",
   "metadata": {},
   "outputs": [],
   "source": [
    "df_tv = pd.get_dummies(df_total['TV'])"
   ]
  },
  {
   "cell_type": "code",
   "execution_count": 316,
   "id": "5351e2bc",
   "metadata": {},
   "outputs": [],
   "source": [
    "df_total['tv-familiar'] = df_tv['tv-familiar'] \n",
    "df_total['tv-futbol'] = df_tv['tv-futbol'] \n",
    "df_total['tv-total'] = df_tv['tv-total'] "
   ]
  },
  {
   "cell_type": "code",
   "execution_count": 318,
   "id": "0725bfcc",
   "metadata": {},
   "outputs": [
    {
     "data": {
      "text/plain": [
       "id                  int64\n",
       "edad                int64\n",
       "facturacion       float64\n",
       "antiguedad          int64\n",
       "provincia           int32\n",
       "num_lineas          int64\n",
       "num_dt            float64\n",
       "incidencia          int64\n",
       "conexion           object\n",
       "vel_conexion        int32\n",
       "TV                 object\n",
       "financiacion        int64\n",
       "imp_financ        float64\n",
       "descuentos          int64\n",
       "num_llamad_ent      int64\n",
       "num_llamad_sal      int64\n",
       "mb_datos            int64\n",
       "seg_llamad_ent      int64\n",
       "seg_llamad_sal      int64\n",
       "conjunto           object\n",
       "FIBRA               uint8\n",
       "tv-familiar         uint8\n",
       "tv-futbol           uint8\n",
       "tv-total            uint8\n",
       "dtype: object"
      ]
     },
     "execution_count": 318,
     "metadata": {},
     "output_type": "execute_result"
    }
   ],
   "source": [
    "df_total.dtypes"
   ]
  },
  {
   "cell_type": "code",
   "execution_count": 319,
   "id": "64886d76",
   "metadata": {},
   "outputs": [],
   "source": [
    "df_diciembre = df_total[df_total['conjunto']=='diciembre']\n",
    "df_enero = df_total[df_total['conjunto']=='enero']"
   ]
  },
  {
   "cell_type": "code",
   "execution_count": 320,
   "id": "0716b86d",
   "metadata": {},
   "outputs": [
    {
     "name": "stderr",
     "output_type": "stream",
     "text": [
      "C:\\Python38\\lib\\site-packages\\pandas\\core\\frame.py:4305: SettingWithCopyWarning: \n",
      "A value is trying to be set on a copy of a slice from a DataFrame\n",
      "\n",
      "See the caveats in the documentation: https://pandas.pydata.org/pandas-docs/stable/user_guide/indexing.html#returning-a-view-versus-a-copy\n",
      "  return super().drop(\n"
     ]
    }
   ],
   "source": [
    "df_diciembre.drop('conjunto', axis=1, inplace=True)\n",
    "df_diciembre.drop('TV', axis=1, inplace=True)\n",
    "df_diciembre.drop('conexion', axis=1, inplace=True)"
   ]
  },
  {
   "cell_type": "code",
   "execution_count": 321,
   "id": "7dfa9ced",
   "metadata": {},
   "outputs": [],
   "source": [
    "df_enero.drop('conjunto', axis=1, inplace=True)\n",
    "df_enero.drop('TV', axis=1, inplace=True)\n",
    "df_enero.drop('conexion', axis=1, inplace=True)"
   ]
  },
  {
   "cell_type": "code",
   "execution_count": 324,
   "id": "730842da",
   "metadata": {},
   "outputs": [
    {
     "data": {
      "text/plain": [
       "id                  int64\n",
       "edad                int64\n",
       "facturacion       float64\n",
       "antiguedad          int64\n",
       "provincia           int32\n",
       "num_lineas          int64\n",
       "num_dt            float64\n",
       "incidencia          int64\n",
       "vel_conexion        int32\n",
       "financiacion        int64\n",
       "imp_financ        float64\n",
       "descuentos          int64\n",
       "num_llamad_ent      int64\n",
       "num_llamad_sal      int64\n",
       "mb_datos            int64\n",
       "seg_llamad_ent      int64\n",
       "seg_llamad_sal      int64\n",
       "FIBRA               uint8\n",
       "tv-familiar         uint8\n",
       "tv-futbol           uint8\n",
       "tv-total            uint8\n",
       "dtype: object"
      ]
     },
     "execution_count": 324,
     "metadata": {},
     "output_type": "execute_result"
    }
   ],
   "source": [
    "df_diciembre.dtypes"
   ]
  },
  {
   "cell_type": "code",
   "execution_count": 327,
   "id": "0fa36a82",
   "metadata": {},
   "outputs": [
    {
     "data": {
      "text/plain": [
       "95467"
      ]
     },
     "execution_count": 327,
     "metadata": {},
     "output_type": "execute_result"
    }
   ],
   "source": [
    "len(df_diciembre['id'].unique())"
   ]
  },
  {
   "cell_type": "code",
   "execution_count": 328,
   "id": "4a58233a",
   "metadata": {},
   "outputs": [],
   "source": [
    "df_diciembre.set_index('id', inplace=True)"
   ]
  },
  {
   "cell_type": "code",
   "execution_count": 330,
   "id": "32dce827",
   "metadata": {},
   "outputs": [],
   "source": [
    "df_enero.set_index('id', inplace=True)"
   ]
  },
  {
   "cell_type": "code",
   "execution_count": 333,
   "id": "a33ff9d0",
   "metadata": {},
   "outputs": [],
   "source": [
    "X_train, X_test, y_train, y_test = train_test_split (df_diciembre, \n",
    "                                                     target,\n",
    "                                                     test_size = 0.2,\n",
    "                                                     random_state = 0,\n",
    "                                                     stratify = target)"
   ]
  },
  {
   "cell_type": "code",
   "execution_count": null,
   "id": "cb692e0a",
   "metadata": {},
   "outputs": [],
   "source": []
  }
 ],
 "metadata": {
  "kernelspec": {
   "display_name": "Python 3 (ipykernel)",
   "language": "python",
   "name": "python3"
  },
  "language_info": {
   "codemirror_mode": {
    "name": "ipython",
    "version": 3
   },
   "file_extension": ".py",
   "mimetype": "text/x-python",
   "name": "python",
   "nbconvert_exporter": "python",
   "pygments_lexer": "ipython3",
   "version": "3.9.13"
  }
 },
 "nbformat": 4,
 "nbformat_minor": 5
}
