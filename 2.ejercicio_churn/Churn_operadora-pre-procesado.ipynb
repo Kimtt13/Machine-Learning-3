{
 "cells": [
  {
   "cell_type": "markdown",
   "metadata": {},
   "source": [
    "# Churn operadora Machine Learning (Python)"
   ]
  },
  {
   "cell_type": "code",
   "execution_count": 1,
   "metadata": {},
   "outputs": [],
   "source": [
    "import pandas as pd\n",
    "import numpy as np\n",
    "\n",
    "from datetime import datetime\n",
    "import requests\n",
    "import seaborn as sns\n",
    "sns.set()\n",
    "%matplotlib inline\n",
    "import matplotlib\n",
    "import matplotlib.pyplot as plt\n",
    "plt.rcParams['axes.labelsize'] = 10\n",
    "plt.rcParams['xtick.labelsize'] = 10\n",
    "plt.rcParams['ytick.labelsize'] = 10\n",
    "\n",
    "import re\n",
    "\n",
    "# IQR/Z score.\n",
    "from scipy.stats import stats\n",
    "\n",
    "# Seleción de variables.\n",
    "from sklearn.feature_selection import SelectKBest\n",
    "\n",
    "# Modelos Selección.\n",
    "from sklearn.model_selection import train_test_split\n",
    "from sklearn.model_selection import cross_val_score\n",
    "from sklearn.model_selection import GridSearchCV, StratifiedKFold\n",
    "\n",
    "# Modelos.\n",
    "from sklearn.linear_model import LogisticRegression\n",
    "from sklearn.tree import DecisionTreeClassifier\n",
    "from sklearn.ensemble import RandomForestClassifier\n",
    "from sklearn.svm import LinearSVC\n",
    "from xgboost import XGBClassifier\n",
    "from sklearn.naive_bayes import GaussianNB\n",
    "from sklearn.ensemble import AdaBoostClassifier\n",
    "from sklearn.linear_model import LassoCV\n",
    "from sklearn.linear_model import RidgeClassifierCV\n",
    "from sklearn.svm import SVC\n",
    "from sklearn.model_selection import RepeatedStratifiedKFold\n",
    "\n",
    "# Preprocesado.\n",
    "from sklearn.preprocessing import MinMaxScaler\n",
    "\n",
    "from imblearn.over_sampling import SMOTE\n",
    "import pickle\n",
    "# Métricas.\n",
    "from sklearn.metrics import classification_report\n",
    "from sklearn.metrics import accuracy_score, auc, confusion_matrix, f1_score, precision_score, recall_score, roc_curve, classification_report"
   ]
  },
  {
   "cell_type": "markdown",
   "metadata": {},
   "source": [
    "## Cargar los datasets y construir un único tablón analítico con todas las variables"
   ]
  },
  {
   "cell_type": "code",
   "execution_count": 2,
   "metadata": {},
   "outputs": [],
   "source": [
    "dic_clientes = pd.read_csv(\"clientes_diciembre.csv\", sep = \"|\", parse_dates = [\"antiguedad\"])\n",
    "dic_consumos = pd.read_csv(\"consumos_diciembre.csv\", sep = \"|\")\n",
    "dic_fin = pd.read_csv(\"financiacion_diciembre.csv\", sep = \"|\")\n",
    "dic_prod = pd.read_csv(\"productos_diciembre.csv\", sep = \"|\")"
   ]
  },
  {
   "cell_type": "code",
   "execution_count": 3,
   "metadata": {},
   "outputs": [
    {
     "name": "stdout",
     "output_type": "stream",
     "text": [
      "Tamaño de tabla de consumos diciembre: 95467\n",
      "Tamaño de tabla de clientes diciembre: 95467\n",
      "Tamaño de tabla de financiación diciembre: 24198\n",
      "Tamaño de tabla de productos diciembre: 95467\n"
     ]
    }
   ],
   "source": [
    "print('Tamaño de tabla de consumos diciembre:',dic_consumos.shape[0])\n",
    "print('Tamaño de tabla de clientes diciembre:',dic_clientes.shape[0])\n",
    "print('Tamaño de tabla de financiación diciembre:',dic_fin.shape[0])\n",
    "print('Tamaño de tabla de productos diciembre:',dic_prod.shape[0])"
   ]
  },
  {
   "cell_type": "code",
   "execution_count": 4,
   "metadata": {},
   "outputs": [
    {
     "name": "stdout",
     "output_type": "stream",
     "text": [
      "Clientes en tabla financiacion\n",
      " False    71269\n",
      "True     24198\n",
      "Name: id, dtype: int64\n",
      "Clientes en tabla consumos\n",
      " True    95467\n",
      "Name: id, dtype: int64\n",
      "Clientes en tabla productos\n",
      " True    95467\n",
      "Name: id, dtype: int64\n"
     ]
    }
   ],
   "source": [
    "print('Clientes en tabla financiacion\\n', dic_clientes['id'].isin(dic_fin['id']).value_counts())\n",
    "print('Clientes en tabla consumos\\n',dic_clientes['id'].isin(dic_consumos['id']).value_counts())\n",
    "print('Clientes en tabla productos\\n',dic_clientes['id'].isin(dic_prod['id']).value_counts())"
   ]
  },
  {
   "cell_type": "code",
   "execution_count": 5,
   "metadata": {},
   "outputs": [],
   "source": [
    "dic_cl_con = pd.merge(dic_clientes, dic_consumos, on = \"id\", how = \"left\")\n",
    "dic_cl_con_f = pd.merge(dic_cl_con, dic_fin, on= \"id\", how = \"left\")\n",
    "dic_full = pd.merge(dic_cl_con_f, dic_prod, on = \"id\", how = \"left\")"
   ]
  },
  {
   "cell_type": "code",
   "execution_count": 6,
   "metadata": {},
   "outputs": [
    {
     "data": {
      "text/html": [
       "<div>\n",
       "<style scoped>\n",
       "    .dataframe tbody tr th:only-of-type {\n",
       "        vertical-align: middle;\n",
       "    }\n",
       "\n",
       "    .dataframe tbody tr th {\n",
       "        vertical-align: top;\n",
       "    }\n",
       "\n",
       "    .dataframe thead th {\n",
       "        text-align: right;\n",
       "    }\n",
       "</style>\n",
       "<table border=\"1\" class=\"dataframe\">\n",
       "  <thead>\n",
       "    <tr style=\"text-align: right;\">\n",
       "      <th></th>\n",
       "      <th>id</th>\n",
       "      <th>edad</th>\n",
       "      <th>facturacion</th>\n",
       "      <th>antiguedad</th>\n",
       "      <th>provincia</th>\n",
       "      <th>num_lineas</th>\n",
       "      <th>num_dt</th>\n",
       "      <th>incidencia</th>\n",
       "      <th>num_llamad_ent</th>\n",
       "      <th>num_llamad_sal</th>\n",
       "      <th>mb_datos</th>\n",
       "      <th>seg_llamad_ent</th>\n",
       "      <th>seg_llamad_sal</th>\n",
       "      <th>financiacion</th>\n",
       "      <th>imp_financ</th>\n",
       "      <th>descuentos</th>\n",
       "      <th>conexion</th>\n",
       "      <th>vel_conexion</th>\n",
       "      <th>TV</th>\n",
       "    </tr>\n",
       "  </thead>\n",
       "  <tbody>\n",
       "    <tr>\n",
       "      <th>0</th>\n",
       "      <td>1</td>\n",
       "      <td>63</td>\n",
       "      <td>216.028109</td>\n",
       "      <td>2018-11-23 08:48:00</td>\n",
       "      <td>La Rioja</td>\n",
       "      <td>5</td>\n",
       "      <td>NaN</td>\n",
       "      <td>NaN</td>\n",
       "      <td>110</td>\n",
       "      <td>79</td>\n",
       "      <td>10897</td>\n",
       "      <td>12806</td>\n",
       "      <td>13751</td>\n",
       "      <td>NaN</td>\n",
       "      <td>NaN</td>\n",
       "      <td>NaN</td>\n",
       "      <td>FIBRA</td>\n",
       "      <td>50MB</td>\n",
       "      <td>tv-futbol</td>\n",
       "    </tr>\n",
       "    <tr>\n",
       "      <th>1</th>\n",
       "      <td>2</td>\n",
       "      <td>84</td>\n",
       "      <td>255.830842</td>\n",
       "      <td>2017-08-22 03:19:00</td>\n",
       "      <td>Vizcaya</td>\n",
       "      <td>3</td>\n",
       "      <td>NaN</td>\n",
       "      <td>NaN</td>\n",
       "      <td>189</td>\n",
       "      <td>89</td>\n",
       "      <td>18657</td>\n",
       "      <td>6499</td>\n",
       "      <td>10862</td>\n",
       "      <td>NaN</td>\n",
       "      <td>NaN</td>\n",
       "      <td>SI</td>\n",
       "      <td>FIBRA</td>\n",
       "      <td>600MB</td>\n",
       "      <td>tv-futbol</td>\n",
       "    </tr>\n",
       "    <tr>\n",
       "      <th>2</th>\n",
       "      <td>3</td>\n",
       "      <td>66</td>\n",
       "      <td>135.768153</td>\n",
       "      <td>2001-12-27 13:50:00</td>\n",
       "      <td>Albacete</td>\n",
       "      <td>4</td>\n",
       "      <td>NaN</td>\n",
       "      <td>NaN</td>\n",
       "      <td>129</td>\n",
       "      <td>30</td>\n",
       "      <td>15511</td>\n",
       "      <td>17013</td>\n",
       "      <td>16743</td>\n",
       "      <td>NaN</td>\n",
       "      <td>NaN</td>\n",
       "      <td>SI</td>\n",
       "      <td>ADSL</td>\n",
       "      <td>35MB</td>\n",
       "      <td>tv-futbol</td>\n",
       "    </tr>\n",
       "    <tr>\n",
       "      <th>3</th>\n",
       "      <td>4</td>\n",
       "      <td>69</td>\n",
       "      <td>255.658527</td>\n",
       "      <td>2015-08-08 10:53:00</td>\n",
       "      <td>Lugo</td>\n",
       "      <td>4</td>\n",
       "      <td>NaN</td>\n",
       "      <td>NaN</td>\n",
       "      <td>51</td>\n",
       "      <td>52</td>\n",
       "      <td>12670</td>\n",
       "      <td>3393</td>\n",
       "      <td>6771</td>\n",
       "      <td>NaN</td>\n",
       "      <td>NaN</td>\n",
       "      <td>NaN</td>\n",
       "      <td>FIBRA</td>\n",
       "      <td>200MB</td>\n",
       "      <td>tv-familiar</td>\n",
       "    </tr>\n",
       "    <tr>\n",
       "      <th>4</th>\n",
       "      <td>5</td>\n",
       "      <td>30</td>\n",
       "      <td>22.302845</td>\n",
       "      <td>1997-08-29 02:19:00</td>\n",
       "      <td>Tarragona</td>\n",
       "      <td>2</td>\n",
       "      <td>2.0</td>\n",
       "      <td>NaN</td>\n",
       "      <td>183</td>\n",
       "      <td>3</td>\n",
       "      <td>23756</td>\n",
       "      <td>18436</td>\n",
       "      <td>4485</td>\n",
       "      <td>NaN</td>\n",
       "      <td>NaN</td>\n",
       "      <td>NaN</td>\n",
       "      <td>ADSL</td>\n",
       "      <td>10MB</td>\n",
       "      <td>tv-futbol</td>\n",
       "    </tr>\n",
       "  </tbody>\n",
       "</table>\n",
       "</div>"
      ],
      "text/plain": [
       "   id  edad  facturacion          antiguedad  provincia  num_lineas  num_dt  \\\n",
       "0   1    63   216.028109 2018-11-23 08:48:00   La Rioja           5     NaN   \n",
       "1   2    84   255.830842 2017-08-22 03:19:00    Vizcaya           3     NaN   \n",
       "2   3    66   135.768153 2001-12-27 13:50:00   Albacete           4     NaN   \n",
       "3   4    69   255.658527 2015-08-08 10:53:00       Lugo           4     NaN   \n",
       "4   5    30    22.302845 1997-08-29 02:19:00  Tarragona           2     2.0   \n",
       "\n",
       "  incidencia  num_llamad_ent  num_llamad_sal  mb_datos  seg_llamad_ent  \\\n",
       "0        NaN             110              79     10897           12806   \n",
       "1        NaN             189              89     18657            6499   \n",
       "2        NaN             129              30     15511           17013   \n",
       "3        NaN              51              52     12670            3393   \n",
       "4        NaN             183               3     23756           18436   \n",
       "\n",
       "   seg_llamad_sal financiacion  imp_financ descuentos conexion vel_conexion  \\\n",
       "0           13751          NaN         NaN        NaN    FIBRA         50MB   \n",
       "1           10862          NaN         NaN         SI    FIBRA        600MB   \n",
       "2           16743          NaN         NaN         SI     ADSL         35MB   \n",
       "3            6771          NaN         NaN        NaN    FIBRA        200MB   \n",
       "4            4485          NaN         NaN        NaN     ADSL         10MB   \n",
       "\n",
       "            TV  \n",
       "0    tv-futbol  \n",
       "1    tv-futbol  \n",
       "2    tv-futbol  \n",
       "3  tv-familiar  \n",
       "4    tv-futbol  "
      ]
     },
     "execution_count": 6,
     "metadata": {},
     "output_type": "execute_result"
    }
   ],
   "source": [
    "dic_full.head()"
   ]
  },
  {
   "cell_type": "code",
   "execution_count": 7,
   "metadata": {},
   "outputs": [
    {
     "data": {
      "text/plain": [
       "(95467, 19)"
      ]
     },
     "execution_count": 7,
     "metadata": {},
     "output_type": "execute_result"
    }
   ],
   "source": [
    "dic_full.shape"
   ]
  },
  {
   "cell_type": "code",
   "execution_count": 8,
   "metadata": {},
   "outputs": [],
   "source": [
    "en_clientes = pd.read_csv(\"clientes_enero.csv\", sep = \"|\", parse_dates = [\"antiguedad\"])\n",
    "en_consumos = pd.read_csv(\"consumos_enero.csv\", sep = \"|\")\n",
    "en_fin = pd.read_csv(\"financiacion_enero.csv\", sep = \"|\")\n",
    "en_prod = pd.read_csv(\"productos_enero.csv\", sep = \"|\")"
   ]
  },
  {
   "cell_type": "code",
   "execution_count": 9,
   "metadata": {},
   "outputs": [
    {
     "name": "stdout",
     "output_type": "stream",
     "text": [
      "Tamaño de tabla de consumos enero: 92711\n",
      "Tamaño de tabla de clientes enero: 92711\n",
      "Tamaño de tabla de financiación enero: 25332\n",
      "Tamaño de tabla de productos enero: 92711\n"
     ]
    }
   ],
   "source": [
    "print('Tamaño de tabla de consumos enero:',en_consumos.shape[0])\n",
    "print('Tamaño de tabla de clientes enero:',en_clientes.shape[0])\n",
    "print('Tamaño de tabla de financiación enero:',en_fin.shape[0])\n",
    "print('Tamaño de tabla de productos enero:',en_prod.shape[0])"
   ]
  },
  {
   "cell_type": "code",
   "execution_count": 10,
   "metadata": {},
   "outputs": [
    {
     "name": "stdout",
     "output_type": "stream",
     "text": [
      "Clientes en tabla financiacion\n",
      " False    67379\n",
      "True     25332\n",
      "Name: id, dtype: int64\n",
      "Clientes en tabla consumos\n",
      " True    92711\n",
      "Name: id, dtype: int64\n",
      "Clientes en tabla productos\n",
      " True    92711\n",
      "Name: id, dtype: int64\n"
     ]
    }
   ],
   "source": [
    "print('Clientes en tabla financiacion\\n', en_clientes['id'].isin(en_fin['id']).value_counts())\n",
    "print('Clientes en tabla consumos\\n',en_clientes['id'].isin(en_consumos['id']).value_counts())\n",
    "print('Clientes en tabla productos\\n',en_clientes['id'].isin(en_prod['id']).value_counts())"
   ]
  },
  {
   "cell_type": "code",
   "execution_count": 11,
   "metadata": {},
   "outputs": [],
   "source": [
    "en_cl_con = pd.merge(en_clientes, en_consumos, on = \"id\", how = \"left\")\n",
    "en_cl_con_f = pd.merge(en_cl_con, en_fin, on = \"id\", how = \"left\")\n",
    "en_full = pd.merge(en_cl_con_f, en_prod, on = \"id\", how = \"left\")"
   ]
  },
  {
   "cell_type": "code",
   "execution_count": 12,
   "metadata": {},
   "outputs": [
    {
     "name": "stdout",
     "output_type": "stream",
     "text": [
      "Enero:  92711\n",
      "Diciembre:  95467\n"
     ]
    }
   ],
   "source": [
    "## Valores únicos\n",
    "print('Enero: ',len(en_full['id'].unique()))\n",
    "print('Diciembre: ',len(dic_full['id'].unique()))"
   ]
  },
  {
   "cell_type": "code",
   "execution_count": 13,
   "metadata": {},
   "outputs": [],
   "source": [
    "dic_full[\"mes\"] = \"dic\"\n",
    "en_full[\"mes\"] = \"en\""
   ]
  },
  {
   "cell_type": "markdown",
   "metadata": {},
   "source": [
    "   - Se observa que en enero hubo una disminución de 3000 clientes aproximadamente. Por tanto, la empresa perdió más clientes de los que ganó. \n",
    "        - __7085 clientes abandonaron la empresa.__"
   ]
  },
  {
   "cell_type": "code",
   "execution_count": 14,
   "metadata": {},
   "outputs": [
    {
     "data": {
      "text/plain": [
       "7085"
      ]
     },
     "execution_count": 14,
     "metadata": {},
     "output_type": "execute_result"
    }
   ],
   "source": [
    "len(dic_full) - dic_full.id.isin(en_full.id).sum()"
   ]
  },
  {
   "cell_type": "markdown",
   "metadata": {},
   "source": [
    "   - Creación de la variable target. Se buscan los \"id\" de enero que coinciden con los de diciembre, asignando 0 si son idénticos o 1 si no lo son."
   ]
  },
  {
   "cell_type": "code",
   "execution_count": 15,
   "metadata": {},
   "outputs": [],
   "source": [
    "churn = pd.DataFrame()\n",
    "churn['churn'] = np.where(dic_full.id.isin(en_full.id) == True, 0, 1)\n",
    "churn['id'] =dic_full['id'] "
   ]
  },
  {
   "cell_type": "code",
   "execution_count": 16,
   "metadata": {},
   "outputs": [],
   "source": [
    "####  Antes de concatenar las cosechas, voy a transformar la variable antigüedad\n",
    "dic_full['duracion'] = (datetime(2019,12,31) - dic_full[\"antiguedad\"])\n",
    "en_full['duracion'] = (datetime(2020,1,31) - en_full[\"antiguedad\"])"
   ]
  },
  {
   "cell_type": "code",
   "execution_count": 17,
   "metadata": {},
   "outputs": [
    {
     "data": {
      "text/html": [
       "<div>\n",
       "<style scoped>\n",
       "    .dataframe tbody tr th:only-of-type {\n",
       "        vertical-align: middle;\n",
       "    }\n",
       "\n",
       "    .dataframe tbody tr th {\n",
       "        vertical-align: top;\n",
       "    }\n",
       "\n",
       "    .dataframe thead th {\n",
       "        text-align: right;\n",
       "    }\n",
       "</style>\n",
       "<table border=\"1\" class=\"dataframe\">\n",
       "  <thead>\n",
       "    <tr style=\"text-align: right;\">\n",
       "      <th></th>\n",
       "      <th>id</th>\n",
       "      <th>edad</th>\n",
       "      <th>facturacion</th>\n",
       "      <th>antiguedad</th>\n",
       "      <th>provincia</th>\n",
       "      <th>num_lineas</th>\n",
       "      <th>num_dt</th>\n",
       "      <th>incidencia</th>\n",
       "      <th>num_llamad_ent</th>\n",
       "      <th>num_llamad_sal</th>\n",
       "      <th>...</th>\n",
       "      <th>seg_llamad_ent</th>\n",
       "      <th>seg_llamad_sal</th>\n",
       "      <th>financiacion</th>\n",
       "      <th>imp_financ</th>\n",
       "      <th>descuentos</th>\n",
       "      <th>conexion</th>\n",
       "      <th>vel_conexion</th>\n",
       "      <th>tv</th>\n",
       "      <th>mes</th>\n",
       "      <th>duracion</th>\n",
       "    </tr>\n",
       "  </thead>\n",
       "  <tbody>\n",
       "    <tr>\n",
       "      <th>0</th>\n",
       "      <td>1</td>\n",
       "      <td>63</td>\n",
       "      <td>216.028109</td>\n",
       "      <td>2018-11-23 08:48:00</td>\n",
       "      <td>La Rioja</td>\n",
       "      <td>5</td>\n",
       "      <td>NaN</td>\n",
       "      <td>NaN</td>\n",
       "      <td>110</td>\n",
       "      <td>79</td>\n",
       "      <td>...</td>\n",
       "      <td>12806</td>\n",
       "      <td>13751</td>\n",
       "      <td>NaN</td>\n",
       "      <td>NaN</td>\n",
       "      <td>NaN</td>\n",
       "      <td>FIBRA</td>\n",
       "      <td>50MB</td>\n",
       "      <td>tv-futbol</td>\n",
       "      <td>dic</td>\n",
       "      <td>402 days 15:12:00</td>\n",
       "    </tr>\n",
       "    <tr>\n",
       "      <th>1</th>\n",
       "      <td>2</td>\n",
       "      <td>84</td>\n",
       "      <td>255.830842</td>\n",
       "      <td>2017-08-22 03:19:00</td>\n",
       "      <td>Vizcaya</td>\n",
       "      <td>3</td>\n",
       "      <td>NaN</td>\n",
       "      <td>NaN</td>\n",
       "      <td>189</td>\n",
       "      <td>89</td>\n",
       "      <td>...</td>\n",
       "      <td>6499</td>\n",
       "      <td>10862</td>\n",
       "      <td>NaN</td>\n",
       "      <td>NaN</td>\n",
       "      <td>SI</td>\n",
       "      <td>FIBRA</td>\n",
       "      <td>600MB</td>\n",
       "      <td>tv-futbol</td>\n",
       "      <td>dic</td>\n",
       "      <td>860 days 20:41:00</td>\n",
       "    </tr>\n",
       "    <tr>\n",
       "      <th>2</th>\n",
       "      <td>3</td>\n",
       "      <td>66</td>\n",
       "      <td>135.768153</td>\n",
       "      <td>2001-12-27 13:50:00</td>\n",
       "      <td>Albacete</td>\n",
       "      <td>4</td>\n",
       "      <td>NaN</td>\n",
       "      <td>NaN</td>\n",
       "      <td>129</td>\n",
       "      <td>30</td>\n",
       "      <td>...</td>\n",
       "      <td>17013</td>\n",
       "      <td>16743</td>\n",
       "      <td>NaN</td>\n",
       "      <td>NaN</td>\n",
       "      <td>SI</td>\n",
       "      <td>ADSL</td>\n",
       "      <td>35MB</td>\n",
       "      <td>tv-futbol</td>\n",
       "      <td>dic</td>\n",
       "      <td>6577 days 10:10:00</td>\n",
       "    </tr>\n",
       "    <tr>\n",
       "      <th>3</th>\n",
       "      <td>4</td>\n",
       "      <td>69</td>\n",
       "      <td>255.658527</td>\n",
       "      <td>2015-08-08 10:53:00</td>\n",
       "      <td>Lugo</td>\n",
       "      <td>4</td>\n",
       "      <td>NaN</td>\n",
       "      <td>NaN</td>\n",
       "      <td>51</td>\n",
       "      <td>52</td>\n",
       "      <td>...</td>\n",
       "      <td>3393</td>\n",
       "      <td>6771</td>\n",
       "      <td>NaN</td>\n",
       "      <td>NaN</td>\n",
       "      <td>NaN</td>\n",
       "      <td>FIBRA</td>\n",
       "      <td>200MB</td>\n",
       "      <td>tv-familiar</td>\n",
       "      <td>dic</td>\n",
       "      <td>1605 days 13:07:00</td>\n",
       "    </tr>\n",
       "    <tr>\n",
       "      <th>4</th>\n",
       "      <td>5</td>\n",
       "      <td>30</td>\n",
       "      <td>22.302845</td>\n",
       "      <td>1997-08-29 02:19:00</td>\n",
       "      <td>Tarragona</td>\n",
       "      <td>2</td>\n",
       "      <td>2.0</td>\n",
       "      <td>NaN</td>\n",
       "      <td>183</td>\n",
       "      <td>3</td>\n",
       "      <td>...</td>\n",
       "      <td>18436</td>\n",
       "      <td>4485</td>\n",
       "      <td>NaN</td>\n",
       "      <td>NaN</td>\n",
       "      <td>NaN</td>\n",
       "      <td>ADSL</td>\n",
       "      <td>10MB</td>\n",
       "      <td>tv-futbol</td>\n",
       "      <td>dic</td>\n",
       "      <td>8158 days 21:41:00</td>\n",
       "    </tr>\n",
       "  </tbody>\n",
       "</table>\n",
       "<p>5 rows × 21 columns</p>\n",
       "</div>"
      ],
      "text/plain": [
       "   id  edad  facturacion          antiguedad  provincia  num_lineas  num_dt  \\\n",
       "0   1    63   216.028109 2018-11-23 08:48:00   La Rioja           5     NaN   \n",
       "1   2    84   255.830842 2017-08-22 03:19:00    Vizcaya           3     NaN   \n",
       "2   3    66   135.768153 2001-12-27 13:50:00   Albacete           4     NaN   \n",
       "3   4    69   255.658527 2015-08-08 10:53:00       Lugo           4     NaN   \n",
       "4   5    30    22.302845 1997-08-29 02:19:00  Tarragona           2     2.0   \n",
       "\n",
       "  incidencia  num_llamad_ent  num_llamad_sal  ...  seg_llamad_ent  \\\n",
       "0        NaN             110              79  ...           12806   \n",
       "1        NaN             189              89  ...            6499   \n",
       "2        NaN             129              30  ...           17013   \n",
       "3        NaN              51              52  ...            3393   \n",
       "4        NaN             183               3  ...           18436   \n",
       "\n",
       "   seg_llamad_sal  financiacion imp_financ  descuentos conexion vel_conexion  \\\n",
       "0           13751           NaN        NaN         NaN    FIBRA         50MB   \n",
       "1           10862           NaN        NaN          SI    FIBRA        600MB   \n",
       "2           16743           NaN        NaN          SI     ADSL         35MB   \n",
       "3            6771           NaN        NaN         NaN    FIBRA        200MB   \n",
       "4            4485           NaN        NaN         NaN     ADSL         10MB   \n",
       "\n",
       "            tv  mes           duracion  \n",
       "0    tv-futbol  dic  402 days 15:12:00  \n",
       "1    tv-futbol  dic  860 days 20:41:00  \n",
       "2    tv-futbol  dic 6577 days 10:10:00  \n",
       "3  tv-familiar  dic 1605 days 13:07:00  \n",
       "4    tv-futbol  dic 8158 days 21:41:00  \n",
       "\n",
       "[5 rows x 21 columns]"
      ]
     },
     "execution_count": 17,
     "metadata": {},
     "output_type": "execute_result"
    }
   ],
   "source": [
    "## Concatenamos las dos cosechas y normalizamos todas las variables\n",
    "\n",
    "data = pd.concat([dic_full, en_full], sort = False, ignore_index=True)\n",
    "data.columns= data.columns.str.lower()\n",
    "data.head()"
   ]
  },
  {
   "cell_type": "code",
   "execution_count": 18,
   "metadata": {},
   "outputs": [
    {
     "data": {
      "text/plain": [
       "Index(['id', 'edad', 'facturacion', 'antiguedad', 'provincia', 'num_lineas',\n",
       "       'num_dt', 'incidencia', 'num_llamad_ent', 'num_llamad_sal', 'mb_datos',\n",
       "       'seg_llamad_ent', 'seg_llamad_sal', 'financiacion', 'imp_financ',\n",
       "       'descuentos', 'conexion', 'vel_conexion', 'tv', 'mes', 'duracion'],\n",
       "      dtype='object')"
      ]
     },
     "execution_count": 18,
     "metadata": {},
     "output_type": "execute_result"
    }
   ],
   "source": [
    "data.columns"
   ]
  },
  {
   "cell_type": "code",
   "execution_count": 19,
   "metadata": {},
   "outputs": [],
   "source": [
    "# Transformación de la variable antigüedad a días, horas... Esta parte podría hacerse en la parte de FE\n",
    "data[\"duracion\"] = data.duracion.apply(lambda x: int(x.days))\n",
    "\n",
    "# Month:\n",
    "data[\"month\"] = data.antiguedad.apply(lambda x: x.strftime(\"%B\"))\n",
    "\n",
    "# Lo mismo con día de la semana. \n",
    "data[\"dia\"] = data.antiguedad.apply(lambda x: x.strftime(\"%A\"))\n",
    "\n",
    "# Recoger la info de la hora.\n",
    "data[\"hora\"] = data.antiguedad.apply(lambda x: int(x.hour))\n",
    "\n",
    "# Categórica para poder tener interpretabilidad.\n",
    "data[\"hora_bin\"] = pd.cut(data[\"hora\"], bins = [-1,6,12,18,23], labels = [\"Madrugada\", \"Mañana\", \"Tarde\", \"Noche\"])\n",
    "\n",
    "# Se elimina la variable original pues ya está convertida a numérica.\n",
    "data.drop(columns = \"antiguedad\", inplace = True)"
   ]
  },
  {
   "cell_type": "markdown",
   "metadata": {},
   "source": [
    "# Pre procesado y  limpieza de los datos\n",
    "\n"
   ]
  },
  {
   "cell_type": "code",
   "execution_count": 20,
   "metadata": {},
   "outputs": [
    {
     "name": "stdout",
     "output_type": "stream",
     "text": [
      "<class 'pandas.core.frame.DataFrame'>\n",
      "RangeIndex: 188178 entries, 0 to 188177\n",
      "Data columns (total 24 columns):\n",
      " #   Column          Non-Null Count   Dtype   \n",
      "---  ------          --------------   -----   \n",
      " 0   id              188178 non-null  int64   \n",
      " 1   edad            188178 non-null  int64   \n",
      " 2   facturacion     188178 non-null  float64 \n",
      " 3   provincia       188178 non-null  object  \n",
      " 4   num_lineas      188178 non-null  int64   \n",
      " 5   num_dt          7343 non-null    float64 \n",
      " 6   incidencia      5565 non-null    object  \n",
      " 7   num_llamad_ent  188178 non-null  int64   \n",
      " 8   num_llamad_sal  188178 non-null  int64   \n",
      " 9   mb_datos        188178 non-null  int64   \n",
      " 10  seg_llamad_ent  188178 non-null  int64   \n",
      " 11  seg_llamad_sal  188178 non-null  int64   \n",
      " 12  financiacion    13038 non-null   object  \n",
      " 13  imp_financ      13038 non-null   float64 \n",
      " 14  descuentos      39192 non-null   object  \n",
      " 15  conexion        188176 non-null  object  \n",
      " 16  vel_conexion    188172 non-null  object  \n",
      " 17  tv              188178 non-null  object  \n",
      " 18  mes             188178 non-null  object  \n",
      " 19  duracion        188178 non-null  int64   \n",
      " 20  month           188178 non-null  object  \n",
      " 21  dia             188178 non-null  object  \n",
      " 22  hora            188178 non-null  int64   \n",
      " 23  hora_bin        188178 non-null  category\n",
      "dtypes: category(1), float64(3), int64(10), object(10)\n",
      "memory usage: 33.2+ MB\n"
     ]
    }
   ],
   "source": [
    "data.info()"
   ]
  },
  {
   "cell_type": "code",
   "execution_count": 21,
   "metadata": {},
   "outputs": [],
   "source": [
    "cat_cols= data.select_dtypes(include=['object','category']).columns\n",
    "num_cols = data.select_dtypes(exclude=['object','category']).columns"
   ]
  },
  {
   "cell_type": "code",
   "execution_count": 22,
   "metadata": {},
   "outputs": [
    {
     "data": {
      "text/html": [
       "<div>\n",
       "<style scoped>\n",
       "    .dataframe tbody tr th:only-of-type {\n",
       "        vertical-align: middle;\n",
       "    }\n",
       "\n",
       "    .dataframe tbody tr th {\n",
       "        vertical-align: top;\n",
       "    }\n",
       "\n",
       "    .dataframe thead th {\n",
       "        text-align: right;\n",
       "    }\n",
       "</style>\n",
       "<table border=\"1\" class=\"dataframe\">\n",
       "  <thead>\n",
       "    <tr style=\"text-align: right;\">\n",
       "      <th></th>\n",
       "      <th>provincia</th>\n",
       "      <th>incidencia</th>\n",
       "      <th>financiacion</th>\n",
       "      <th>descuentos</th>\n",
       "      <th>conexion</th>\n",
       "      <th>vel_conexion</th>\n",
       "      <th>tv</th>\n",
       "      <th>mes</th>\n",
       "      <th>month</th>\n",
       "      <th>dia</th>\n",
       "      <th>hora_bin</th>\n",
       "    </tr>\n",
       "  </thead>\n",
       "  <tbody>\n",
       "    <tr>\n",
       "      <th>count</th>\n",
       "      <td>188178</td>\n",
       "      <td>5565</td>\n",
       "      <td>13038</td>\n",
       "      <td>39192</td>\n",
       "      <td>188176</td>\n",
       "      <td>188172</td>\n",
       "      <td>188178</td>\n",
       "      <td>188178</td>\n",
       "      <td>188178</td>\n",
       "      <td>188178</td>\n",
       "      <td>188178</td>\n",
       "    </tr>\n",
       "    <tr>\n",
       "      <th>unique</th>\n",
       "      <td>50</td>\n",
       "      <td>1</td>\n",
       "      <td>1</td>\n",
       "      <td>1</td>\n",
       "      <td>2</td>\n",
       "      <td>14</td>\n",
       "      <td>3</td>\n",
       "      <td>2</td>\n",
       "      <td>12</td>\n",
       "      <td>7</td>\n",
       "      <td>4</td>\n",
       "    </tr>\n",
       "    <tr>\n",
       "      <th>top</th>\n",
       "      <td>Zaragoza</td>\n",
       "      <td>SI</td>\n",
       "      <td>SI</td>\n",
       "      <td>SI</td>\n",
       "      <td>ADSL</td>\n",
       "      <td>200MB</td>\n",
       "      <td>tv-futbol</td>\n",
       "      <td>dic</td>\n",
       "      <td>January</td>\n",
       "      <td>Wednesday</td>\n",
       "      <td>Madrugada</td>\n",
       "    </tr>\n",
       "    <tr>\n",
       "      <th>freq</th>\n",
       "      <td>3918</td>\n",
       "      <td>5565</td>\n",
       "      <td>13038</td>\n",
       "      <td>39192</td>\n",
       "      <td>95220</td>\n",
       "      <td>19017</td>\n",
       "      <td>95825</td>\n",
       "      <td>95467</td>\n",
       "      <td>19953</td>\n",
       "      <td>27212</td>\n",
       "      <td>54984</td>\n",
       "    </tr>\n",
       "  </tbody>\n",
       "</table>\n",
       "</div>"
      ],
      "text/plain": [
       "       provincia incidencia financiacion descuentos conexion vel_conexion  \\\n",
       "count     188178       5565        13038      39192   188176       188172   \n",
       "unique        50          1            1          1        2           14   \n",
       "top     Zaragoza         SI           SI         SI     ADSL        200MB   \n",
       "freq        3918       5565        13038      39192    95220        19017   \n",
       "\n",
       "               tv     mes    month        dia   hora_bin  \n",
       "count      188178  188178   188178     188178     188178  \n",
       "unique          3       2       12          7          4  \n",
       "top     tv-futbol     dic  January  Wednesday  Madrugada  \n",
       "freq        95825   95467    19953      27212      54984  "
      ]
     },
     "execution_count": 22,
     "metadata": {},
     "output_type": "execute_result"
    }
   ],
   "source": [
    "data[cat_cols].describe()"
   ]
  },
  {
   "cell_type": "code",
   "execution_count": 23,
   "metadata": {},
   "outputs": [
    {
     "data": {
      "text/html": [
       "<div>\n",
       "<style scoped>\n",
       "    .dataframe tbody tr th:only-of-type {\n",
       "        vertical-align: middle;\n",
       "    }\n",
       "\n",
       "    .dataframe tbody tr th {\n",
       "        vertical-align: top;\n",
       "    }\n",
       "\n",
       "    .dataframe thead th {\n",
       "        text-align: right;\n",
       "    }\n",
       "</style>\n",
       "<table border=\"1\" class=\"dataframe\">\n",
       "  <thead>\n",
       "    <tr style=\"text-align: right;\">\n",
       "      <th></th>\n",
       "      <th>id</th>\n",
       "      <th>edad</th>\n",
       "      <th>facturacion</th>\n",
       "      <th>num_lineas</th>\n",
       "      <th>num_dt</th>\n",
       "      <th>num_llamad_ent</th>\n",
       "      <th>num_llamad_sal</th>\n",
       "      <th>mb_datos</th>\n",
       "      <th>seg_llamad_ent</th>\n",
       "      <th>seg_llamad_sal</th>\n",
       "      <th>imp_financ</th>\n",
       "      <th>duracion</th>\n",
       "      <th>hora</th>\n",
       "    </tr>\n",
       "  </thead>\n",
       "  <tbody>\n",
       "    <tr>\n",
       "      <th>count</th>\n",
       "      <td>188178.000000</td>\n",
       "      <td>188178.000000</td>\n",
       "      <td>188178.000000</td>\n",
       "      <td>188178.000000</td>\n",
       "      <td>7343.000000</td>\n",
       "      <td>188178.000000</td>\n",
       "      <td>188178.000000</td>\n",
       "      <td>188178.000000</td>\n",
       "      <td>188178.000000</td>\n",
       "      <td>188178.000000</td>\n",
       "      <td>13038.000000</td>\n",
       "      <td>188178.000000</td>\n",
       "      <td>188178.000000</td>\n",
       "    </tr>\n",
       "    <tr>\n",
       "      <th>mean</th>\n",
       "      <td>49995.915575</td>\n",
       "      <td>50.592227</td>\n",
       "      <td>207.440105</td>\n",
       "      <td>3.559731</td>\n",
       "      <td>2.515729</td>\n",
       "      <td>124.960580</td>\n",
       "      <td>49.942060</td>\n",
       "      <td>12499.843850</td>\n",
       "      <td>9964.973217</td>\n",
       "      <td>9979.341969</td>\n",
       "      <td>22.270750</td>\n",
       "      <td>4483.265918</td>\n",
       "      <td>11.500276</td>\n",
       "    </tr>\n",
       "    <tr>\n",
       "      <th>std</th>\n",
       "      <td>28868.075573</td>\n",
       "      <td>19.728833</td>\n",
       "      <td>111.291972</td>\n",
       "      <td>1.090756</td>\n",
       "      <td>1.122437</td>\n",
       "      <td>72.457194</td>\n",
       "      <td>29.163648</td>\n",
       "      <td>7228.701809</td>\n",
       "      <td>5779.620186</td>\n",
       "      <td>5803.444024</td>\n",
       "      <td>10.169251</td>\n",
       "      <td>2687.133125</td>\n",
       "      <td>6.927324</td>\n",
       "    </tr>\n",
       "    <tr>\n",
       "      <th>min</th>\n",
       "      <td>1.000000</td>\n",
       "      <td>18.000000</td>\n",
       "      <td>15.000439</td>\n",
       "      <td>1.000000</td>\n",
       "      <td>1.000000</td>\n",
       "      <td>0.000000</td>\n",
       "      <td>0.000000</td>\n",
       "      <td>0.000000</td>\n",
       "      <td>0.000000</td>\n",
       "      <td>0.000000</td>\n",
       "      <td>5.009999</td>\n",
       "      <td>-1.000000</td>\n",
       "      <td>0.000000</td>\n",
       "    </tr>\n",
       "    <tr>\n",
       "      <th>25%</th>\n",
       "      <td>24980.000000</td>\n",
       "      <td>33.000000</td>\n",
       "      <td>111.370882</td>\n",
       "      <td>3.000000</td>\n",
       "      <td>2.000000</td>\n",
       "      <td>62.000000</td>\n",
       "      <td>25.000000</td>\n",
       "      <td>6205.000000</td>\n",
       "      <td>4956.000000</td>\n",
       "      <td>4959.000000</td>\n",
       "      <td>13.444882</td>\n",
       "      <td>2158.000000</td>\n",
       "      <td>6.000000</td>\n",
       "    </tr>\n",
       "    <tr>\n",
       "      <th>50%</th>\n",
       "      <td>49985.000000</td>\n",
       "      <td>50.000000</td>\n",
       "      <td>206.927616</td>\n",
       "      <td>4.000000</td>\n",
       "      <td>3.000000</td>\n",
       "      <td>125.000000</td>\n",
       "      <td>50.000000</td>\n",
       "      <td>12496.000000</td>\n",
       "      <td>9959.000000</td>\n",
       "      <td>9980.000000</td>\n",
       "      <td>21.883685</td>\n",
       "      <td>4491.000000</td>\n",
       "      <td>12.000000</td>\n",
       "    </tr>\n",
       "    <tr>\n",
       "      <th>75%</th>\n",
       "      <td>75005.750000</td>\n",
       "      <td>68.000000</td>\n",
       "      <td>304.388724</td>\n",
       "      <td>4.000000</td>\n",
       "      <td>4.000000</td>\n",
       "      <td>188.000000</td>\n",
       "      <td>75.000000</td>\n",
       "      <td>18764.000000</td>\n",
       "      <td>14965.000000</td>\n",
       "      <td>14998.000000</td>\n",
       "      <td>31.134052</td>\n",
       "      <td>6807.000000</td>\n",
       "      <td>18.000000</td>\n",
       "    </tr>\n",
       "    <tr>\n",
       "      <th>max</th>\n",
       "      <td>100000.000000</td>\n",
       "      <td>85.000000</td>\n",
       "      <td>399.998433</td>\n",
       "      <td>39.000000</td>\n",
       "      <td>4.000000</td>\n",
       "      <td>250.000000</td>\n",
       "      <td>100.000000</td>\n",
       "      <td>25000.000000</td>\n",
       "      <td>20000.000000</td>\n",
       "      <td>20000.000000</td>\n",
       "      <td>39.991954</td>\n",
       "      <td>9160.000000</td>\n",
       "      <td>23.000000</td>\n",
       "    </tr>\n",
       "  </tbody>\n",
       "</table>\n",
       "</div>"
      ],
      "text/plain": [
       "                  id           edad    facturacion     num_lineas  \\\n",
       "count  188178.000000  188178.000000  188178.000000  188178.000000   \n",
       "mean    49995.915575      50.592227     207.440105       3.559731   \n",
       "std     28868.075573      19.728833     111.291972       1.090756   \n",
       "min         1.000000      18.000000      15.000439       1.000000   \n",
       "25%     24980.000000      33.000000     111.370882       3.000000   \n",
       "50%     49985.000000      50.000000     206.927616       4.000000   \n",
       "75%     75005.750000      68.000000     304.388724       4.000000   \n",
       "max    100000.000000      85.000000     399.998433      39.000000   \n",
       "\n",
       "            num_dt  num_llamad_ent  num_llamad_sal       mb_datos  \\\n",
       "count  7343.000000   188178.000000   188178.000000  188178.000000   \n",
       "mean      2.515729      124.960580       49.942060   12499.843850   \n",
       "std       1.122437       72.457194       29.163648    7228.701809   \n",
       "min       1.000000        0.000000        0.000000       0.000000   \n",
       "25%       2.000000       62.000000       25.000000    6205.000000   \n",
       "50%       3.000000      125.000000       50.000000   12496.000000   \n",
       "75%       4.000000      188.000000       75.000000   18764.000000   \n",
       "max       4.000000      250.000000      100.000000   25000.000000   \n",
       "\n",
       "       seg_llamad_ent  seg_llamad_sal    imp_financ       duracion  \\\n",
       "count   188178.000000   188178.000000  13038.000000  188178.000000   \n",
       "mean      9964.973217     9979.341969     22.270750    4483.265918   \n",
       "std       5779.620186     5803.444024     10.169251    2687.133125   \n",
       "min          0.000000        0.000000      5.009999      -1.000000   \n",
       "25%       4956.000000     4959.000000     13.444882    2158.000000   \n",
       "50%       9959.000000     9980.000000     21.883685    4491.000000   \n",
       "75%      14965.000000    14998.000000     31.134052    6807.000000   \n",
       "max      20000.000000    20000.000000     39.991954    9160.000000   \n",
       "\n",
       "                hora  \n",
       "count  188178.000000  \n",
       "mean       11.500276  \n",
       "std         6.927324  \n",
       "min         0.000000  \n",
       "25%         6.000000  \n",
       "50%        12.000000  \n",
       "75%        18.000000  \n",
       "max        23.000000  "
      ]
     },
     "execution_count": 23,
     "metadata": {},
     "output_type": "execute_result"
    }
   ],
   "source": [
    "data[num_cols].describe()"
   ]
  },
  {
   "cell_type": "markdown",
   "metadata": {},
   "source": [
    "##  Tratamiento de nulos"
   ]
  },
  {
   "cell_type": "code",
   "execution_count": 24,
   "metadata": {},
   "outputs": [
    {
     "data": {
      "text/plain": [
       "id                     0\n",
       "edad                   0\n",
       "facturacion            0\n",
       "provincia              0\n",
       "num_lineas             0\n",
       "num_dt            180835\n",
       "incidencia        182613\n",
       "num_llamad_ent         0\n",
       "num_llamad_sal         0\n",
       "mb_datos               0\n",
       "seg_llamad_ent         0\n",
       "seg_llamad_sal         0\n",
       "financiacion      175140\n",
       "imp_financ        175140\n",
       "descuentos        148986\n",
       "conexion               2\n",
       "vel_conexion           6\n",
       "tv                     0\n",
       "mes                    0\n",
       "duracion               0\n",
       "month                  0\n",
       "dia                    0\n",
       "hora                   0\n",
       "hora_bin               0\n",
       "dtype: int64"
      ]
     },
     "execution_count": 24,
     "metadata": {},
     "output_type": "execute_result"
    }
   ],
   "source": [
    "data.isnull().sum()"
   ]
  },
  {
   "cell_type": "code",
   "execution_count": 25,
   "metadata": {},
   "outputs": [],
   "source": [
    "## Las variables incidencia, financiación, descuentos cuando están a nulo significa que es NO (0)\n",
    "\n",
    "var_no = ['incidencia','financiacion','descuentos']\n",
    "\n",
    "for i in var_no:\n",
    "    data[i].fillna('NO',inplace=True)"
   ]
  },
  {
   "cell_type": "code",
   "execution_count": 26,
   "metadata": {},
   "outputs": [],
   "source": [
    "## Las variables num_dt, imp_financ cuando están a nulo significa que es el valor es 0.\n",
    "var_cero = ['num_dt','imp_financ']\n",
    "\n",
    "for i in var_cero:\n",
    "    data[i].fillna(0,inplace=True)"
   ]
  },
  {
   "cell_type": "code",
   "execution_count": 27,
   "metadata": {},
   "outputs": [
    {
     "data": {
      "text/plain": [
       "id                0\n",
       "edad              0\n",
       "facturacion       0\n",
       "provincia         0\n",
       "num_lineas        0\n",
       "num_dt            0\n",
       "incidencia        0\n",
       "num_llamad_ent    0\n",
       "num_llamad_sal    0\n",
       "mb_datos          0\n",
       "seg_llamad_ent    0\n",
       "seg_llamad_sal    0\n",
       "financiacion      0\n",
       "imp_financ        0\n",
       "descuentos        0\n",
       "conexion          2\n",
       "vel_conexion      6\n",
       "tv                0\n",
       "mes               0\n",
       "duracion          0\n",
       "month             0\n",
       "dia               0\n",
       "hora              0\n",
       "hora_bin          0\n",
       "dtype: int64"
      ]
     },
     "execution_count": 27,
     "metadata": {},
     "output_type": "execute_result"
    }
   ],
   "source": [
    "data.isnull().sum()"
   ]
  },
  {
   "cell_type": "code",
   "execution_count": 28,
   "metadata": {},
   "outputs": [
    {
     "data": {
      "text/plain": [
       "<AxesSubplot: >"
      ]
     },
     "execution_count": 28,
     "metadata": {},
     "output_type": "execute_result"
    },
    {
     "data": {
      "image/png": "[encoded data removed]",
      "text/plain": [
       "<Figure size 640x480 with 1 Axes>"
      ]
     },
     "metadata": {},
     "output_type": "display_data"
    }
   ],
   "source": [
    "data['vel_conexion'].value_counts().plot(kind='bar')"
   ]
  },
  {
   "cell_type": "code",
   "execution_count": 29,
   "metadata": {},
   "outputs": [
    {
     "data": {
      "text/plain": [
       "id                   int64\n",
       "edad                 int64\n",
       "facturacion        float64\n",
       "provincia           object\n",
       "num_lineas           int64\n",
       "num_dt             float64\n",
       "incidencia          object\n",
       "num_llamad_ent       int64\n",
       "num_llamad_sal       int64\n",
       "mb_datos             int64\n",
       "seg_llamad_ent       int64\n",
       "seg_llamad_sal       int64\n",
       "financiacion        object\n",
       "imp_financ         float64\n",
       "descuentos          object\n",
       "conexion            object\n",
       "vel_conexion        object\n",
       "tv                  object\n",
       "mes                 object\n",
       "duracion             int64\n",
       "month               object\n",
       "dia                 object\n",
       "hora                 int64\n",
       "hora_bin          category\n",
       "dtype: object"
      ]
     },
     "execution_count": 29,
     "metadata": {},
     "output_type": "execute_result"
    }
   ],
   "source": [
    "data.dtypes"
   ]
  },
  {
   "cell_type": "code",
   "execution_count": 30,
   "metadata": {},
   "outputs": [
    {
     "data": {
      "text/html": [
       "<div>\n",
       "<style scoped>\n",
       "    .dataframe tbody tr th:only-of-type {\n",
       "        vertical-align: middle;\n",
       "    }\n",
       "\n",
       "    .dataframe tbody tr th {\n",
       "        vertical-align: top;\n",
       "    }\n",
       "\n",
       "    .dataframe thead th {\n",
       "        text-align: right;\n",
       "    }\n",
       "</style>\n",
       "<table border=\"1\" class=\"dataframe\">\n",
       "  <thead>\n",
       "    <tr style=\"text-align: right;\">\n",
       "      <th></th>\n",
       "      <th>id</th>\n",
       "      <th>edad</th>\n",
       "      <th>facturacion</th>\n",
       "      <th>provincia</th>\n",
       "      <th>num_lineas</th>\n",
       "      <th>num_dt</th>\n",
       "      <th>incidencia</th>\n",
       "      <th>num_llamad_ent</th>\n",
       "      <th>num_llamad_sal</th>\n",
       "      <th>mb_datos</th>\n",
       "      <th>...</th>\n",
       "      <th>descuentos</th>\n",
       "      <th>conexion</th>\n",
       "      <th>vel_conexion</th>\n",
       "      <th>tv</th>\n",
       "      <th>mes</th>\n",
       "      <th>duracion</th>\n",
       "      <th>month</th>\n",
       "      <th>dia</th>\n",
       "      <th>hora</th>\n",
       "      <th>hora_bin</th>\n",
       "    </tr>\n",
       "  </thead>\n",
       "  <tbody>\n",
       "    <tr>\n",
       "      <th>70528</th>\n",
       "      <td>73889</td>\n",
       "      <td>69</td>\n",
       "      <td>118.515385</td>\n",
       "      <td>Castellón</td>\n",
       "      <td>2</td>\n",
       "      <td>0.0</td>\n",
       "      <td>NO</td>\n",
       "      <td>74</td>\n",
       "      <td>99</td>\n",
       "      <td>12169</td>\n",
       "      <td>...</td>\n",
       "      <td>NO</td>\n",
       "      <td>FIBRA</td>\n",
       "      <td>?</td>\n",
       "      <td>tv-familiar</td>\n",
       "      <td>dic</td>\n",
       "      <td>6108</td>\n",
       "      <td>April</td>\n",
       "      <td>Thursday</td>\n",
       "      <td>19</td>\n",
       "      <td>Noche</td>\n",
       "    </tr>\n",
       "  </tbody>\n",
       "</table>\n",
       "<p>1 rows × 24 columns</p>\n",
       "</div>"
      ],
      "text/plain": [
       "          id  edad  facturacion  provincia  num_lineas  num_dt incidencia  \\\n",
       "70528  73889    69   118.515385  Castellón           2     0.0         NO   \n",
       "\n",
       "       num_llamad_ent  num_llamad_sal  mb_datos  ...  descuentos  conexion  \\\n",
       "70528              74              99     12169  ...          NO     FIBRA   \n",
       "\n",
       "      vel_conexion           tv  mes duracion  month       dia hora  hora_bin  \n",
       "70528            ?  tv-familiar  dic     6108  April  Thursday   19     Noche  \n",
       "\n",
       "[1 rows x 24 columns]"
      ]
     },
     "execution_count": 30,
     "metadata": {},
     "output_type": "execute_result"
    }
   ],
   "source": [
    "data[data['vel_conexion']=='?']"
   ]
  },
  {
   "cell_type": "code",
   "execution_count": 31,
   "metadata": {},
   "outputs": [
    {
     "data": {
      "text/html": [
       "<div>\n",
       "<style scoped>\n",
       "    .dataframe tbody tr th:only-of-type {\n",
       "        vertical-align: middle;\n",
       "    }\n",
       "\n",
       "    .dataframe tbody tr th {\n",
       "        vertical-align: top;\n",
       "    }\n",
       "\n",
       "    .dataframe thead th {\n",
       "        text-align: right;\n",
       "    }\n",
       "</style>\n",
       "<table border=\"1\" class=\"dataframe\">\n",
       "  <thead>\n",
       "    <tr style=\"text-align: right;\">\n",
       "      <th></th>\n",
       "      <th>id</th>\n",
       "      <th>edad</th>\n",
       "      <th>facturacion</th>\n",
       "      <th>provincia</th>\n",
       "      <th>num_lineas</th>\n",
       "      <th>num_dt</th>\n",
       "      <th>incidencia</th>\n",
       "      <th>num_llamad_ent</th>\n",
       "      <th>num_llamad_sal</th>\n",
       "      <th>mb_datos</th>\n",
       "      <th>...</th>\n",
       "      <th>descuentos</th>\n",
       "      <th>conexion</th>\n",
       "      <th>vel_conexion</th>\n",
       "      <th>tv</th>\n",
       "      <th>mes</th>\n",
       "      <th>duracion</th>\n",
       "      <th>month</th>\n",
       "      <th>dia</th>\n",
       "      <th>hora</th>\n",
       "      <th>hora_bin</th>\n",
       "    </tr>\n",
       "  </thead>\n",
       "  <tbody>\n",
       "    <tr>\n",
       "      <th>70426</th>\n",
       "      <td>73779</td>\n",
       "      <td>26</td>\n",
       "      <td>209.565464</td>\n",
       "      <td>Pontevedra</td>\n",
       "      <td>5</td>\n",
       "      <td>1.0</td>\n",
       "      <td>NO</td>\n",
       "      <td>82</td>\n",
       "      <td>29</td>\n",
       "      <td>9667</td>\n",
       "      <td>...</td>\n",
       "      <td>NO</td>\n",
       "      <td>ADSL</td>\n",
       "      <td>1</td>\n",
       "      <td>tv-futbol</td>\n",
       "      <td>dic</td>\n",
       "      <td>7422</td>\n",
       "      <td>September</td>\n",
       "      <td>Saturday</td>\n",
       "      <td>1</td>\n",
       "      <td>Madrugada</td>\n",
       "    </tr>\n",
       "  </tbody>\n",
       "</table>\n",
       "<p>1 rows × 24 columns</p>\n",
       "</div>"
      ],
      "text/plain": [
       "          id  edad  facturacion   provincia  num_lineas  num_dt incidencia  \\\n",
       "70426  73779    26   209.565464  Pontevedra           5     1.0         NO   \n",
       "\n",
       "       num_llamad_ent  num_llamad_sal  mb_datos  ...  descuentos  conexion  \\\n",
       "70426              82              29      9667  ...          NO      ADSL   \n",
       "\n",
       "      vel_conexion         tv  mes duracion      month       dia hora  \\\n",
       "70426            1  tv-futbol  dic     7422  September  Saturday    1   \n",
       "\n",
       "        hora_bin  \n",
       "70426  Madrugada  \n",
       "\n",
       "[1 rows x 24 columns]"
      ]
     },
     "execution_count": 31,
     "metadata": {},
     "output_type": "execute_result"
    }
   ],
   "source": [
    "data[data['vel_conexion']=='1']"
   ]
  },
  {
   "cell_type": "code",
   "execution_count": 32,
   "metadata": {},
   "outputs": [
    {
     "data": {
      "text/html": [
       "<div>\n",
       "<style scoped>\n",
       "    .dataframe tbody tr th:only-of-type {\n",
       "        vertical-align: middle;\n",
       "    }\n",
       "\n",
       "    .dataframe tbody tr th {\n",
       "        vertical-align: top;\n",
       "    }\n",
       "\n",
       "    .dataframe thead th {\n",
       "        text-align: right;\n",
       "    }\n",
       "</style>\n",
       "<table border=\"1\" class=\"dataframe\">\n",
       "  <thead>\n",
       "    <tr style=\"text-align: right;\">\n",
       "      <th></th>\n",
       "      <th>id</th>\n",
       "      <th>edad</th>\n",
       "      <th>facturacion</th>\n",
       "      <th>provincia</th>\n",
       "      <th>num_lineas</th>\n",
       "      <th>num_dt</th>\n",
       "      <th>incidencia</th>\n",
       "      <th>num_llamad_ent</th>\n",
       "      <th>num_llamad_sal</th>\n",
       "      <th>mb_datos</th>\n",
       "      <th>...</th>\n",
       "      <th>descuentos</th>\n",
       "      <th>conexion</th>\n",
       "      <th>vel_conexion</th>\n",
       "      <th>tv</th>\n",
       "      <th>mes</th>\n",
       "      <th>duracion</th>\n",
       "      <th>month</th>\n",
       "      <th>dia</th>\n",
       "      <th>hora</th>\n",
       "      <th>hora_bin</th>\n",
       "    </tr>\n",
       "  </thead>\n",
       "  <tbody>\n",
       "    <tr>\n",
       "      <th>12</th>\n",
       "      <td>13</td>\n",
       "      <td>55</td>\n",
       "      <td>209.36555</td>\n",
       "      <td>Huelva</td>\n",
       "      <td>3</td>\n",
       "      <td>0.0</td>\n",
       "      <td>NO</td>\n",
       "      <td>118</td>\n",
       "      <td>13</td>\n",
       "      <td>18030</td>\n",
       "      <td>...</td>\n",
       "      <td>NO</td>\n",
       "      <td>FIBRA</td>\n",
       "      <td>16598</td>\n",
       "      <td>tv-familiar</td>\n",
       "      <td>dic</td>\n",
       "      <td>137</td>\n",
       "      <td>August</td>\n",
       "      <td>Thursday</td>\n",
       "      <td>23</td>\n",
       "      <td>Noche</td>\n",
       "    </tr>\n",
       "  </tbody>\n",
       "</table>\n",
       "<p>1 rows × 24 columns</p>\n",
       "</div>"
      ],
      "text/plain": [
       "    id  edad  facturacion provincia  num_lineas  num_dt incidencia  \\\n",
       "12  13    55    209.36555    Huelva           3     0.0         NO   \n",
       "\n",
       "    num_llamad_ent  num_llamad_sal  mb_datos  ...  descuentos  conexion  \\\n",
       "12             118              13     18030  ...          NO     FIBRA   \n",
       "\n",
       "   vel_conexion           tv  mes duracion   month       dia hora  hora_bin  \n",
       "12        16598  tv-familiar  dic      137  August  Thursday   23     Noche  \n",
       "\n",
       "[1 rows x 24 columns]"
      ]
     },
     "execution_count": 32,
     "metadata": {},
     "output_type": "execute_result"
    }
   ],
   "source": [
    "data[data['vel_conexion']=='16598']"
   ]
  },
  {
   "cell_type": "code",
   "execution_count": 33,
   "metadata": {},
   "outputs": [
    {
     "data": {
      "text/plain": [
       "vel_conexion\n",
       "20MB     15995\n",
       "25MB     15952\n",
       "10MB     15776\n",
       "30MB     15708\n",
       "35MB     15619\n",
       "15MB     15436\n",
       "300MB      164\n",
       "600MB      158\n",
       "50MB       145\n",
       "200MB      136\n",
       "100MB      127\n",
       "1            1\n",
       "Name: conexion, dtype: int64"
      ]
     },
     "execution_count": 33,
     "metadata": {},
     "output_type": "execute_result"
    }
   ],
   "source": [
    "adsl = data.query('conexion == \"ADSL\"')\n",
    "adsl.groupby('vel_conexion')['conexion'].count().sort_values(ascending=False)"
   ]
  },
  {
   "cell_type": "code",
   "execution_count": 34,
   "metadata": {},
   "outputs": [],
   "source": [
    "# Vemos que dentro de las conexiones adsl, la velocidad de conexión más repetida es la de 20 MB \n",
    "data['vel_conexion'] = data['vel_conexion'].replace('1', '20MB')"
   ]
  },
  {
   "cell_type": "code",
   "execution_count": 35,
   "metadata": {},
   "outputs": [
    {
     "data": {
      "text/plain": [
       "vel_conexion\n",
       "200MB    18881\n",
       "600MB    18763\n",
       "300MB    18508\n",
       "50MB     18496\n",
       "100MB    18303\n",
       "16598        1\n",
       "?            1\n",
       "Name: conexion, dtype: int64"
      ]
     },
     "execution_count": 35,
     "metadata": {},
     "output_type": "execute_result"
    }
   ],
   "source": [
    "fibra = data.query('conexion == \"FIBRA\"')\n",
    "fibra.groupby('vel_conexion')['conexion'].count().sort_values(ascending=False)"
   ]
  },
  {
   "cell_type": "code",
   "execution_count": 36,
   "metadata": {},
   "outputs": [],
   "source": [
    "# Vemos que dentro de las conexiones fibra, la velocidad de conexión más repetida es la de 200 MB \n",
    "data['vel_conexion'] = data['vel_conexion'].replace('?', '200MB')\n",
    "data['vel_conexion'] = data['vel_conexion'].replace('16598', '200MB')"
   ]
  },
  {
   "cell_type": "code",
   "execution_count": 37,
   "metadata": {},
   "outputs": [
    {
     "name": "stdout",
     "output_type": "stream",
     "text": [
      "['FIBRA' 'ADSL' nan]\n",
      "ADSL     95220\n",
      "FIBRA    92956\n",
      "Name: conexion, dtype: int64\n",
      "['50MB' '600MB' '35MB' '200MB' '10MB' '25MB' '30MB' '100MB' '20MB' '300MB'\n",
      " '15MB' nan]\n",
      "200MB    19019\n",
      "600MB    18921\n",
      "300MB    18672\n",
      "50MB     18641\n",
      "100MB    18431\n",
      "20MB     15996\n",
      "25MB     15952\n",
      "10MB     15776\n",
      "30MB     15709\n",
      "35MB     15619\n",
      "15MB     15436\n",
      "Name: vel_conexion, dtype: int64\n"
     ]
    }
   ],
   "source": [
    "## Faltan por rellenar unos pocos nulos en la variable conexión y en la variable vel_conexion\n",
    "\n",
    "print(data.conexion.unique())\n",
    "\n",
    "print(data.conexion.value_counts())\n",
    "\n",
    "## La probabilidad de rellenar el valor con ADSL o FIBRA es prácticamente el mismo. En este caso, podríamos rellenarlo con la moda ( ADSL ) o incluso eliminar las dos líneas\n",
    "\n",
    "data['conexion'].fillna('ADSL',inplace=True)\n",
    "\n",
    "print(data.vel_conexion.unique())\n",
    "\n",
    "print(data.vel_conexion.value_counts())\n",
    "\n",
    "## En el caso de la velocidad, rellenaremos con el valor 200MB (moda). En este caso, se podría haber rellenado también de varias maneras. Normalmente en estos casos, tenemos alguna información más de negocio (velocidad más probable...)\n",
    "\n",
    "data['vel_conexion'].fillna('200MB',inplace=True)\n",
    "\n",
    "## Vemos también 3 valores que trataremos después"
   ]
  },
  {
   "cell_type": "code",
   "execution_count": 38,
   "metadata": {},
   "outputs": [
    {
     "name": "stderr",
     "output_type": "stream",
     "text": [
      "C:\\Users\\Kim\\AppData\\Local\\Temp\\ipykernel_2180\\2785753992.py:10: UserWarning: \n",
      "\n",
      "`distplot` is a deprecated function and will be removed in seaborn v0.14.0.\n",
      "\n",
      "Please adapt your code to use either `displot` (a figure-level function with\n",
      "similar flexibility) or `histplot` (an axes-level function for histograms).\n",
      "\n",
      "For a guide to updating your code to use the new functions, please see\n",
      "https://gist.github.com/mwaskom/de44147ed2974457ad6372750bbe5751\n",
      "\n",
      "  sns.distplot(v, bins=20, ax=axs[index])\n",
      "C:\\Users\\Kim\\AppData\\Local\\Temp\\ipykernel_2180\\2785753992.py:10: UserWarning: \n",
      "\n",
      "`distplot` is a deprecated function and will be removed in seaborn v0.14.0.\n",
      "\n",
      "Please adapt your code to use either `displot` (a figure-level function with\n",
      "similar flexibility) or `histplot` (an axes-level function for histograms).\n",
      "\n",
      "For a guide to updating your code to use the new functions, please see\n",
      "https://gist.github.com/mwaskom/de44147ed2974457ad6372750bbe5751\n",
      "\n",
      "  sns.distplot(v, bins=20, ax=axs[index])\n",
      "C:\\Users\\Kim\\AppData\\Local\\Temp\\ipykernel_2180\\2785753992.py:10: UserWarning: \n",
      "\n",
      "`distplot` is a deprecated function and will be removed in seaborn v0.14.0.\n",
      "\n",
      "Please adapt your code to use either `displot` (a figure-level function with\n",
      "similar flexibility) or `histplot` (an axes-level function for histograms).\n",
      "\n",
      "For a guide to updating your code to use the new functions, please see\n",
      "https://gist.github.com/mwaskom/de44147ed2974457ad6372750bbe5751\n",
      "\n",
      "  sns.distplot(v, bins=20, ax=axs[index])\n",
      "C:\\Users\\Kim\\AppData\\Local\\Temp\\ipykernel_2180\\2785753992.py:10: UserWarning: \n",
      "\n",
      "`distplot` is a deprecated function and will be removed in seaborn v0.14.0.\n",
      "\n",
      "Please adapt your code to use either `displot` (a figure-level function with\n",
      "similar flexibility) or `histplot` (an axes-level function for histograms).\n",
      "\n",
      "For a guide to updating your code to use the new functions, please see\n",
      "https://gist.github.com/mwaskom/de44147ed2974457ad6372750bbe5751\n",
      "\n",
      "  sns.distplot(v, bins=20, ax=axs[index])\n",
      "C:\\Users\\Kim\\AppData\\Local\\Temp\\ipykernel_2180\\2785753992.py:10: UserWarning: \n",
      "\n",
      "`distplot` is a deprecated function and will be removed in seaborn v0.14.0.\n",
      "\n",
      "Please adapt your code to use either `displot` (a figure-level function with\n",
      "similar flexibility) or `histplot` (an axes-level function for histograms).\n",
      "\n",
      "For a guide to updating your code to use the new functions, please see\n",
      "https://gist.github.com/mwaskom/de44147ed2974457ad6372750bbe5751\n",
      "\n",
      "  sns.distplot(v, bins=20, ax=axs[index])\n",
      "C:\\Users\\Kim\\AppData\\Local\\Temp\\ipykernel_2180\\2785753992.py:10: UserWarning: \n",
      "\n",
      "`distplot` is a deprecated function and will be removed in seaborn v0.14.0.\n",
      "\n",
      "Please adapt your code to use either `displot` (a figure-level function with\n",
      "similar flexibility) or `histplot` (an axes-level function for histograms).\n",
      "\n",
      "For a guide to updating your code to use the new functions, please see\n",
      "https://gist.github.com/mwaskom/de44147ed2974457ad6372750bbe5751\n",
      "\n",
      "  sns.distplot(v, bins=20, ax=axs[index])\n",
      "C:\\Users\\Kim\\AppData\\Local\\Temp\\ipykernel_2180\\2785753992.py:10: UserWarning: \n",
      "\n",
      "`distplot` is a deprecated function and will be removed in seaborn v0.14.0.\n",
      "\n",
      "Please adapt your code to use either `displot` (a figure-level function with\n",
      "similar flexibility) or `histplot` (an axes-level function for histograms).\n",
      "\n",
      "For a guide to updating your code to use the new functions, please see\n",
      "https://gist.github.com/mwaskom/de44147ed2974457ad6372750bbe5751\n",
      "\n",
      "  sns.distplot(v, bins=20, ax=axs[index])\n",
      "C:\\Users\\Kim\\AppData\\Local\\Temp\\ipykernel_2180\\2785753992.py:10: UserWarning: \n",
      "\n",
      "`distplot` is a deprecated function and will be removed in seaborn v0.14.0.\n",
      "\n",
      "Please adapt your code to use either `displot` (a figure-level function with\n",
      "similar flexibility) or `histplot` (an axes-level function for histograms).\n",
      "\n",
      "For a guide to updating your code to use the new functions, please see\n",
      "https://gist.github.com/mwaskom/de44147ed2974457ad6372750bbe5751\n",
      "\n",
      "  sns.distplot(v, bins=20, ax=axs[index])\n",
      "C:\\Users\\Kim\\AppData\\Local\\Temp\\ipykernel_2180\\2785753992.py:10: UserWarning: \n",
      "\n",
      "`distplot` is a deprecated function and will be removed in seaborn v0.14.0.\n",
      "\n",
      "Please adapt your code to use either `displot` (a figure-level function with\n",
      "similar flexibility) or `histplot` (an axes-level function for histograms).\n",
      "\n",
      "For a guide to updating your code to use the new functions, please see\n",
      "https://gist.github.com/mwaskom/de44147ed2974457ad6372750bbe5751\n",
      "\n",
      "  sns.distplot(v, bins=20, ax=axs[index])\n",
      "C:\\Users\\Kim\\AppData\\Local\\Temp\\ipykernel_2180\\2785753992.py:10: UserWarning: \n",
      "\n",
      "`distplot` is a deprecated function and will be removed in seaborn v0.14.0.\n",
      "\n",
      "Please adapt your code to use either `displot` (a figure-level function with\n",
      "similar flexibility) or `histplot` (an axes-level function for histograms).\n",
      "\n",
      "For a guide to updating your code to use the new functions, please see\n",
      "https://gist.github.com/mwaskom/de44147ed2974457ad6372750bbe5751\n",
      "\n",
      "  sns.distplot(v, bins=20, ax=axs[index])\n",
      "C:\\Users\\Kim\\AppData\\Local\\Temp\\ipykernel_2180\\2785753992.py:10: UserWarning: \n",
      "\n",
      "`distplot` is a deprecated function and will be removed in seaborn v0.14.0.\n",
      "\n",
      "Please adapt your code to use either `displot` (a figure-level function with\n",
      "similar flexibility) or `histplot` (an axes-level function for histograms).\n",
      "\n",
      "For a guide to updating your code to use the new functions, please see\n",
      "https://gist.github.com/mwaskom/de44147ed2974457ad6372750bbe5751\n",
      "\n",
      "  sns.distplot(v, bins=20, ax=axs[index])\n",
      "C:\\Users\\Kim\\AppData\\Local\\Temp\\ipykernel_2180\\2785753992.py:10: UserWarning: \n",
      "\n",
      "`distplot` is a deprecated function and will be removed in seaborn v0.14.0.\n",
      "\n",
      "Please adapt your code to use either `displot` (a figure-level function with\n",
      "similar flexibility) or `histplot` (an axes-level function for histograms).\n",
      "\n",
      "For a guide to updating your code to use the new functions, please see\n",
      "https://gist.github.com/mwaskom/de44147ed2974457ad6372750bbe5751\n",
      "\n",
      "  sns.distplot(v, bins=20, ax=axs[index])\n",
      "C:\\Users\\Kim\\AppData\\Local\\Temp\\ipykernel_2180\\2785753992.py:10: UserWarning: \n",
      "\n",
      "`distplot` is a deprecated function and will be removed in seaborn v0.14.0.\n",
      "\n",
      "Please adapt your code to use either `displot` (a figure-level function with\n",
      "similar flexibility) or `histplot` (an axes-level function for histograms).\n",
      "\n",
      "For a guide to updating your code to use the new functions, please see\n",
      "https://gist.github.com/mwaskom/de44147ed2974457ad6372750bbe5751\n",
      "\n",
      "  sns.distplot(v, bins=20, ax=axs[index])\n"
     ]
    },
    {
     "data": {
      "image/png": "[encoded data removed]",
      "text/plain": [
       "<Figure size 2000x1000 with 15 Axes>"
      ]
     },
     "metadata": {},
     "output_type": "display_data"
    }
   ],
   "source": [
    "#Variables numéricas\n",
    "fig, axs = plt.subplots(ncols=5, nrows=3, figsize=(20, 10))\n",
    "axs = axs.flatten() # \n",
    "\n",
    "index = 0\n",
    "for k,v in data[num_cols].items(): \n",
    "    if  (k == 'permanencia'):\n",
    "        sns.countplot(v, ax=axs[index])\n",
    "    else:\n",
    "        sns.distplot(v, bins=20, ax=axs[index])\n",
    "    index += 1\n",
    "\n",
    "plt.tight_layout(pad=0.4, w_pad=0.5, h_pad=5.0)"
   ]
  },
  {
   "cell_type": "code",
   "execution_count": 39,
   "metadata": {},
   "outputs": [
    {
     "ename": "ValueError",
     "evalue": "could not convert string to float: 'La Rioja'",
     "output_type": "error",
     "traceback": [
      "\u001b[1;31m---------------------------------------------------------------------------\u001b[0m",
      "\u001b[1;31mValueError\u001b[0m                                Traceback (most recent call last)",
      "Cell \u001b[1;32mIn[39], line 7\u001b[0m\n\u001b[0;32m      5\u001b[0m index \u001b[38;5;241m=\u001b[39m \u001b[38;5;241m0\u001b[39m\n\u001b[0;32m      6\u001b[0m \u001b[38;5;28;01mfor\u001b[39;00m k,v \u001b[38;5;129;01min\u001b[39;00m data[cat_cols]\u001b[38;5;241m.\u001b[39mitems(): \n\u001b[1;32m----> 7\u001b[0m     \u001b[43msns\u001b[49m\u001b[38;5;241;43m.\u001b[39;49m\u001b[43mcountplot\u001b[49m\u001b[43m(\u001b[49m\u001b[43mv\u001b[49m\u001b[43m,\u001b[49m\u001b[43m \u001b[49m\u001b[43max\u001b[49m\u001b[38;5;241;43m=\u001b[39;49m\u001b[43maxs\u001b[49m\u001b[43m[\u001b[49m\u001b[43mindex\u001b[49m\u001b[43m]\u001b[49m\u001b[43m)\u001b[49m\n\u001b[0;32m      8\u001b[0m     index \u001b[38;5;241m+\u001b[39m\u001b[38;5;241m=\u001b[39m \u001b[38;5;241m1\u001b[39m\n\u001b[0;32m     10\u001b[0m plt\u001b[38;5;241m.\u001b[39mtight_layout(pad\u001b[38;5;241m=\u001b[39m\u001b[38;5;241m0.4\u001b[39m, w_pad\u001b[38;5;241m=\u001b[39m\u001b[38;5;241m0.5\u001b[39m, h_pad\u001b[38;5;241m=\u001b[39m\u001b[38;5;241m5.0\u001b[39m)\n",
      "File \u001b[1;32m~\\anaconda3\\lib\\site-packages\\seaborn\\categorical.py:2943\u001b[0m, in \u001b[0;36mcountplot\u001b[1;34m(data, x, y, hue, order, hue_order, orient, color, palette, saturation, width, dodge, ax, **kwargs)\u001b[0m\n\u001b[0;32m   2940\u001b[0m \u001b[38;5;28;01melif\u001b[39;00m x \u001b[38;5;129;01mis\u001b[39;00m \u001b[38;5;129;01mnot\u001b[39;00m \u001b[38;5;28;01mNone\u001b[39;00m \u001b[38;5;129;01mand\u001b[39;00m y \u001b[38;5;129;01mis\u001b[39;00m \u001b[38;5;129;01mnot\u001b[39;00m \u001b[38;5;28;01mNone\u001b[39;00m:\n\u001b[0;32m   2941\u001b[0m     \u001b[38;5;28;01mraise\u001b[39;00m \u001b[38;5;167;01mValueError\u001b[39;00m(\u001b[38;5;124m\"\u001b[39m\u001b[38;5;124mCannot pass values for both `x` and `y`\u001b[39m\u001b[38;5;124m\"\u001b[39m)\n\u001b[1;32m-> 2943\u001b[0m plotter \u001b[38;5;241m=\u001b[39m \u001b[43m_CountPlotter\u001b[49m\u001b[43m(\u001b[49m\n\u001b[0;32m   2944\u001b[0m \u001b[43m    \u001b[49m\u001b[43mx\u001b[49m\u001b[43m,\u001b[49m\u001b[43m \u001b[49m\u001b[43my\u001b[49m\u001b[43m,\u001b[49m\u001b[43m \u001b[49m\u001b[43mhue\u001b[49m\u001b[43m,\u001b[49m\u001b[43m \u001b[49m\u001b[43mdata\u001b[49m\u001b[43m,\u001b[49m\u001b[43m \u001b[49m\u001b[43morder\u001b[49m\u001b[43m,\u001b[49m\u001b[43m \u001b[49m\u001b[43mhue_order\u001b[49m\u001b[43m,\u001b[49m\n\u001b[0;32m   2945\u001b[0m \u001b[43m    \u001b[49m\u001b[43mestimator\u001b[49m\u001b[43m,\u001b[49m\u001b[43m \u001b[49m\u001b[43merrorbar\u001b[49m\u001b[43m,\u001b[49m\u001b[43m \u001b[49m\u001b[43mn_boot\u001b[49m\u001b[43m,\u001b[49m\u001b[43m \u001b[49m\u001b[43munits\u001b[49m\u001b[43m,\u001b[49m\u001b[43m \u001b[49m\u001b[43mseed\u001b[49m\u001b[43m,\u001b[49m\n\u001b[0;32m   2946\u001b[0m \u001b[43m    \u001b[49m\u001b[43morient\u001b[49m\u001b[43m,\u001b[49m\u001b[43m \u001b[49m\u001b[43mcolor\u001b[49m\u001b[43m,\u001b[49m\u001b[43m \u001b[49m\u001b[43mpalette\u001b[49m\u001b[43m,\u001b[49m\u001b[43m \u001b[49m\u001b[43msaturation\u001b[49m\u001b[43m,\u001b[49m\n\u001b[0;32m   2947\u001b[0m \u001b[43m    \u001b[49m\u001b[43mwidth\u001b[49m\u001b[43m,\u001b[49m\u001b[43m \u001b[49m\u001b[43merrcolor\u001b[49m\u001b[43m,\u001b[49m\u001b[43m \u001b[49m\u001b[43merrwidth\u001b[49m\u001b[43m,\u001b[49m\u001b[43m \u001b[49m\u001b[43mcapsize\u001b[49m\u001b[43m,\u001b[49m\u001b[43m \u001b[49m\u001b[43mdodge\u001b[49m\n\u001b[0;32m   2948\u001b[0m \u001b[43m\u001b[49m\u001b[43m)\u001b[49m\n\u001b[0;32m   2950\u001b[0m plotter\u001b[38;5;241m.\u001b[39mvalue_label \u001b[38;5;241m=\u001b[39m \u001b[38;5;124m\"\u001b[39m\u001b[38;5;124mcount\u001b[39m\u001b[38;5;124m\"\u001b[39m\n\u001b[0;32m   2952\u001b[0m \u001b[38;5;28;01mif\u001b[39;00m ax \u001b[38;5;129;01mis\u001b[39;00m \u001b[38;5;28;01mNone\u001b[39;00m:\n",
      "File \u001b[1;32m~\\anaconda3\\lib\\site-packages\\seaborn\\categorical.py:1530\u001b[0m, in \u001b[0;36m_BarPlotter.__init__\u001b[1;34m(self, x, y, hue, data, order, hue_order, estimator, errorbar, n_boot, units, seed, orient, color, palette, saturation, width, errcolor, errwidth, capsize, dodge)\u001b[0m\n\u001b[0;32m   1525\u001b[0m \u001b[38;5;28;01mdef\u001b[39;00m \u001b[38;5;21m__init__\u001b[39m(\u001b[38;5;28mself\u001b[39m, x, y, hue, data, order, hue_order,\n\u001b[0;32m   1526\u001b[0m              estimator, errorbar, n_boot, units, seed,\n\u001b[0;32m   1527\u001b[0m              orient, color, palette, saturation, width,\n\u001b[0;32m   1528\u001b[0m              errcolor, errwidth, capsize, dodge):\n\u001b[0;32m   1529\u001b[0m \u001b[38;5;250m    \u001b[39m\u001b[38;5;124;03m\"\"\"Initialize the plotter.\"\"\"\u001b[39;00m\n\u001b[1;32m-> 1530\u001b[0m     \u001b[38;5;28;43mself\u001b[39;49m\u001b[38;5;241;43m.\u001b[39;49m\u001b[43mestablish_variables\u001b[49m\u001b[43m(\u001b[49m\u001b[43mx\u001b[49m\u001b[43m,\u001b[49m\u001b[43m \u001b[49m\u001b[43my\u001b[49m\u001b[43m,\u001b[49m\u001b[43m \u001b[49m\u001b[43mhue\u001b[49m\u001b[43m,\u001b[49m\u001b[43m \u001b[49m\u001b[43mdata\u001b[49m\u001b[43m,\u001b[49m\u001b[43m \u001b[49m\u001b[43morient\u001b[49m\u001b[43m,\u001b[49m\n\u001b[0;32m   1531\u001b[0m \u001b[43m                             \u001b[49m\u001b[43morder\u001b[49m\u001b[43m,\u001b[49m\u001b[43m \u001b[49m\u001b[43mhue_order\u001b[49m\u001b[43m,\u001b[49m\u001b[43m \u001b[49m\u001b[43munits\u001b[49m\u001b[43m)\u001b[49m\n\u001b[0;32m   1532\u001b[0m     \u001b[38;5;28mself\u001b[39m\u001b[38;5;241m.\u001b[39mestablish_colors(color, palette, saturation)\n\u001b[0;32m   1533\u001b[0m     \u001b[38;5;28mself\u001b[39m\u001b[38;5;241m.\u001b[39mestimate_statistic(estimator, errorbar, n_boot, seed)\n",
      "File \u001b[1;32m~\\anaconda3\\lib\\site-packages\\seaborn\\categorical.py:516\u001b[0m, in \u001b[0;36m_CategoricalPlotter.establish_variables\u001b[1;34m(self, x, y, hue, data, orient, order, hue_order, units)\u001b[0m\n\u001b[0;32m    513\u001b[0m     plot_data \u001b[38;5;241m=\u001b[39m data\n\u001b[0;32m    515\u001b[0m \u001b[38;5;66;03m# Convert to a list of arrays, the common representation\u001b[39;00m\n\u001b[1;32m--> 516\u001b[0m plot_data \u001b[38;5;241m=\u001b[39m [np\u001b[38;5;241m.\u001b[39masarray(d, \u001b[38;5;28mfloat\u001b[39m) \u001b[38;5;28;01mfor\u001b[39;00m d \u001b[38;5;129;01min\u001b[39;00m plot_data]\n\u001b[0;32m    518\u001b[0m \u001b[38;5;66;03m# The group names will just be numeric indices\u001b[39;00m\n\u001b[0;32m    519\u001b[0m group_names \u001b[38;5;241m=\u001b[39m \u001b[38;5;28mlist\u001b[39m(\u001b[38;5;28mrange\u001b[39m(\u001b[38;5;28mlen\u001b[39m(plot_data)))\n",
      "File \u001b[1;32m~\\anaconda3\\lib\\site-packages\\seaborn\\categorical.py:516\u001b[0m, in \u001b[0;36m<listcomp>\u001b[1;34m(.0)\u001b[0m\n\u001b[0;32m    513\u001b[0m     plot_data \u001b[38;5;241m=\u001b[39m data\n\u001b[0;32m    515\u001b[0m \u001b[38;5;66;03m# Convert to a list of arrays, the common representation\u001b[39;00m\n\u001b[1;32m--> 516\u001b[0m plot_data \u001b[38;5;241m=\u001b[39m [\u001b[43mnp\u001b[49m\u001b[38;5;241;43m.\u001b[39;49m\u001b[43masarray\u001b[49m\u001b[43m(\u001b[49m\u001b[43md\u001b[49m\u001b[43m,\u001b[49m\u001b[43m \u001b[49m\u001b[38;5;28;43mfloat\u001b[39;49m\u001b[43m)\u001b[49m \u001b[38;5;28;01mfor\u001b[39;00m d \u001b[38;5;129;01min\u001b[39;00m plot_data]\n\u001b[0;32m    518\u001b[0m \u001b[38;5;66;03m# The group names will just be numeric indices\u001b[39;00m\n\u001b[0;32m    519\u001b[0m group_names \u001b[38;5;241m=\u001b[39m \u001b[38;5;28mlist\u001b[39m(\u001b[38;5;28mrange\u001b[39m(\u001b[38;5;28mlen\u001b[39m(plot_data)))\n",
      "File \u001b[1;32m~\\anaconda3\\lib\\site-packages\\pandas\\core\\series.py:893\u001b[0m, in \u001b[0;36mSeries.__array__\u001b[1;34m(self, dtype)\u001b[0m\n\u001b[0;32m    846\u001b[0m \u001b[38;5;28;01mdef\u001b[39;00m \u001b[38;5;21m__array__\u001b[39m(\u001b[38;5;28mself\u001b[39m, dtype: npt\u001b[38;5;241m.\u001b[39mDTypeLike \u001b[38;5;241m|\u001b[39m \u001b[38;5;28;01mNone\u001b[39;00m \u001b[38;5;241m=\u001b[39m \u001b[38;5;28;01mNone\u001b[39;00m) \u001b[38;5;241m-\u001b[39m\u001b[38;5;241m>\u001b[39m np\u001b[38;5;241m.\u001b[39mndarray:\n\u001b[0;32m    847\u001b[0m \u001b[38;5;250m    \u001b[39m\u001b[38;5;124;03m\"\"\"\u001b[39;00m\n\u001b[0;32m    848\u001b[0m \u001b[38;5;124;03m    Return the values as a NumPy array.\u001b[39;00m\n\u001b[0;32m    849\u001b[0m \n\u001b[1;32m   (...)\u001b[0m\n\u001b[0;32m    891\u001b[0m \u001b[38;5;124;03m          dtype='datetime64[ns]')\u001b[39;00m\n\u001b[0;32m    892\u001b[0m \u001b[38;5;124;03m    \"\"\"\u001b[39;00m\n\u001b[1;32m--> 893\u001b[0m     \u001b[38;5;28;01mreturn\u001b[39;00m \u001b[43mnp\u001b[49m\u001b[38;5;241;43m.\u001b[39;49m\u001b[43masarray\u001b[49m\u001b[43m(\u001b[49m\u001b[38;5;28;43mself\u001b[39;49m\u001b[38;5;241;43m.\u001b[39;49m\u001b[43m_values\u001b[49m\u001b[43m,\u001b[49m\u001b[43m \u001b[49m\u001b[43mdtype\u001b[49m\u001b[43m)\u001b[49m\n",
      "\u001b[1;31mValueError\u001b[0m: could not convert string to float: 'La Rioja'"
     ]
    },
    {
     "data": {
      "image/png": "[encoded data removed]",
      "text/plain": [
       "<Figure size 2000x1000 with 15 Axes>"
      ]
     },
     "metadata": {},
     "output_type": "display_data"
    }
   ],
   "source": [
    "#Variables categóricas\n",
    "fig, axs = plt.subplots(ncols=5, nrows=3, figsize=(20, 10))\n",
    "axs = axs.flatten() # \n",
    "\n",
    "index = 0\n",
    "for k,v in data[cat_cols].items(): \n",
    "    sns.countplot(v, ax=axs[index])\n",
    "    index += 1\n",
    "\n",
    "plt.tight_layout(pad=0.4, w_pad=0.5, h_pad=5.0)"
   ]
  },
  {
   "cell_type": "markdown",
   "metadata": {},
   "source": [
    "## Transformación variables a numéricas"
   ]
  },
  {
   "cell_type": "code",
   "execution_count": null,
   "metadata": {},
   "outputs": [],
   "source": [
    "data.dtypes"
   ]
  },
  {
   "cell_type": "code",
   "execution_count": null,
   "metadata": {},
   "outputs": [],
   "source": [
    "variables_dummies = ['conexion','tv']\n",
    "variables_binarias = ['financiacion','descuentos','incidencia']"
   ]
  },
  {
   "cell_type": "code",
   "execution_count": null,
   "metadata": {},
   "outputs": [],
   "source": [
    "for k in variables_dummies:\n",
    "    dummies = pd.get_dummies(data[k],prefix=k)\n",
    "    data = pd.concat([data, dummies], axis=1)\n",
    "    data.drop(k, axis=1, inplace=True)"
   ]
  },
  {
   "cell_type": "code",
   "execution_count": null,
   "metadata": {},
   "outputs": [],
   "source": [
    "for j in variables_binarias:\n",
    "    data[j] = [1 if x == 'SI' else 0 for x in data[j]]"
   ]
  },
  {
   "cell_type": "code",
   "execution_count": null,
   "metadata": {},
   "outputs": [],
   "source": [
    "data[\"vel_conexion\"] = data.vel_conexion.apply(lambda x: int(re.sub(\"MB\", \"\", x)))\n",
    "data.vel_conexion.head()"
   ]
  },
  {
   "cell_type": "code",
   "execution_count": null,
   "metadata": {},
   "outputs": [],
   "source": [
    "## Variables nuevas\n",
    "\n",
    "data.month.replace(('January','February','March','April','May','June','July','August','September','October','November','December'),\n",
    "                      (1,2,3,4,5,6,7,8,9,10,11,12),inplace=True)\n",
    "\n",
    "data.dia.replace(('Monday','Tuesday','Wednesday','Thursday','Friday','Saturday','Sunday'),\n",
    "                      (1,2,3,4,5,6,7),inplace=True)\n",
    "\n",
    "data.hora_bin.replace(('Madrugada','Mañana','Tarde','Noche'),\n",
    "                      (1,2,3,4),inplace=True)"
   ]
  },
  {
   "cell_type": "code",
   "execution_count": null,
   "metadata": {},
   "outputs": [],
   "source": [
    "## Obtenemos la comunidad autónoma de cada provincia\n",
    "url = \"https://es.wikipedia.org/wiki/Provincia_(Espa%C3%B1a)\"\n",
    "html = requests.get(url).content\n",
    "df_list = pd.read_html(html)\n",
    "ccaa = df_list[1]\n",
    "ccaa = ccaa[[\"Comunidad autónoma\", \"Provincia\"]]\n",
    "ccaa.columns =ccaa.columns.str.lower()\n",
    "ccaa = ccaa.rename(columns = {'comunidad autónoma': 'com_aut'})\n",
    "ccaa.provincia.replace(('Baleares'),('Islas Baleares'), inplace=True)"
   ]
  },
  {
   "cell_type": "code",
   "execution_count": null,
   "metadata": {},
   "outputs": [],
   "source": [
    "data = pd.merge(data,ccaa,how='left',on='provincia')"
   ]
  },
  {
   "cell_type": "code",
   "execution_count": null,
   "metadata": {},
   "outputs": [],
   "source": [
    "data"
   ]
  },
  {
   "cell_type": "code",
   "execution_count": null,
   "metadata": {},
   "outputs": [],
   "source": [
    "data.drop('provincia', axis=1, inplace=True )"
   ]
  },
  {
   "cell_type": "code",
   "execution_count": null,
   "metadata": {},
   "outputs": [],
   "source": [
    "len(data.com_aut.unique())"
   ]
  },
  {
   "cell_type": "code",
   "execution_count": null,
   "metadata": {},
   "outputs": [],
   "source": [
    "data.com_aut.unique()"
   ]
  },
  {
   "cell_type": "code",
   "execution_count": null,
   "metadata": {},
   "outputs": [],
   "source": [
    "data.com_aut.replace(('La Rioja', 'País Vasco', 'Castilla-La Mancha', 'Galicia',\n",
    "                       'Cataluña', 'Andalucía', 'Comunidad Valenciana',\n",
    "                       'Comunidad de Madrid', 'Islas Canarias', 'Castilla y León', 'Aragón',\n",
    "                       'Navarra', 'Extremadura', 'Asturias',\n",
    "                       'Islas Baleares', 'Cantabria', 'Región de Murcia'),\n",
    "                        (1,2,3,4,5,6,7,8,9,10,11,12,13,14,15,16,17),inplace=True)"
   ]
  },
  {
   "cell_type": "code",
   "execution_count": null,
   "metadata": {},
   "outputs": [],
   "source": [
    "data.com_aut = data.com_aut.astype(int)"
   ]
  },
  {
   "cell_type": "code",
   "execution_count": null,
   "metadata": {},
   "outputs": [],
   "source": [
    "data"
   ]
  },
  {
   "cell_type": "code",
   "execution_count": null,
   "metadata": {},
   "outputs": [],
   "source": [
    "list_correlacion = ['edad', 'facturacion', 'num_lineas', 'num_dt', 'incidencia',\n",
    "       'num_llamad_ent', 'num_llamad_sal', 'mb_datos', 'seg_llamad_ent',\n",
    "       'seg_llamad_sal', 'financiacion', 'imp_financ', 'descuentos',\n",
    "       'vel_conexion','duracion', 'month', 'dia', 'hora',\n",
    "       'hora_bin','com_aut']\n",
    "\n",
    "df_correlacion = data[list_correlacion]\n",
    "correlation_mat = df_correlacion.corr()\n",
    "sns.heatmap(correlation_mat)\n",
    "plt.show()\n",
    "\n",
    "## Vemos correlación entre las variables num_lineas y facturacion y seg_llamd_sali y financiación, aunque muy baja"
   ]
  },
  {
   "cell_type": "code",
   "execution_count": null,
   "metadata": {},
   "outputs": [],
   "source": [
    "data.dtypes"
   ]
  },
  {
   "cell_type": "code",
   "execution_count": null,
   "metadata": {
    "scrolled": true
   },
   "outputs": [],
   "source": [
    "for i in list_correlacion:\n",
    "    sns.boxplot(x=data[i])\n",
    "    print(i)\n",
    "    plt.show()\n",
    "    \n",
    "    \n",
    "## Vemos posibles outliers en vel conexión y num_lineas. Vamos a comprobarlo con z_score    "
   ]
  },
  {
   "cell_type": "code",
   "execution_count": null,
   "metadata": {},
   "outputs": [],
   "source": [
    "threshold = 3\n",
    "z = np.abs(stats.zscore(data['vel_conexion']))\n",
    "print(z)\n",
    "print(np.where(z > 3))"
   ]
  },
  {
   "cell_type": "code",
   "execution_count": null,
   "metadata": {},
   "outputs": [],
   "source": [
    "threshold = 3\n",
    "z = np.abs(stats.zscore(data['num_lineas']))\n",
    "print(z)\n",
    "print(np.where(z > 3))\n",
    "\n",
    "## Hay 3 valores que están fuera del rango. Podemos eliminar esas filas\n",
    "\n",
    "data.drop([2580,8657,36987], axis=0,inplace=True)"
   ]
  },
  {
   "cell_type": "code",
   "execution_count": null,
   "metadata": {},
   "outputs": [],
   "source": [
    "### Todos los valores cumplen con el estandar"
   ]
  },
  {
   "cell_type": "code",
   "execution_count": null,
   "metadata": {},
   "outputs": [],
   "source": [
    "data.dtypes"
   ]
  },
  {
   "cell_type": "code",
   "execution_count": null,
   "metadata": {},
   "outputs": [],
   "source": [
    "df_dic = pd.merge(data[data['mes']=='dic'], churn, on='id', how='left')"
   ]
  },
  {
   "cell_type": "code",
   "execution_count": null,
   "metadata": {},
   "outputs": [],
   "source": [
    "df_dic.drop('mes', axis=1, inplace=True)\n",
    "df_dic.set_index('id', inplace=True)"
   ]
  },
  {
   "cell_type": "code",
   "execution_count": null,
   "metadata": {},
   "outputs": [],
   "source": [
    "df_dic.drop()('',axis=1)"
   ]
  },
  {
   "cell_type": "code",
   "execution_count": null,
   "metadata": {},
   "outputs": [],
   "source": [
    "df_dic"
   ]
  },
  {
   "cell_type": "code",
   "execution_count": null,
   "metadata": {},
   "outputs": [],
   "source": [
    "## Las variables más importantes del modelo son num_dt, incidencia, descuentos, financiacion, importe financiacion"
   ]
  },
  {
   "cell_type": "code",
   "execution_count": null,
   "metadata": {
    "scrolled": true
   },
   "outputs": [],
   "source": [
    "corr = abs(df_dic.corr())\n",
    "corr[['churn']].sort_values(by = 'churn',ascending = False).style.background_gradient()"
   ]
  },
  {
   "cell_type": "code",
   "execution_count": null,
   "metadata": {},
   "outputs": [],
   "source": [
    "def proporciones_final (var,target,df):\n",
    "\n",
    "    proporcion = pd.DataFrame()\n",
    "    \n",
    "    proporcion['%fugas'] = df[target].groupby(df[var]).mean()*100\n",
    "    proporcion['Conteo'] = df[target].groupby(df[var]).count()\n",
    "    proporcion= proporcion.round(3)   \n",
    "    proporcion_filtered = proporcion[(proporcion['%fugas']>0) & (proporcion['Conteo']>10)]  \n",
    "        \n",
    "    if len(proporcion_filtered)<100 and len(proporcion_filtered)>1:\n",
    "        fig = plt.figure()\n",
    "        ax = proporcion_filtered['Conteo'].plot(kind='bar',grid=True)\n",
    "                \n",
    "        ax2 = ax.twinx()\n",
    "        ax2.plot(proporcion_filtered['%fugas'].values, linestyle='-', linewidth=2.0,color='g')\n",
    "        plt.ylim(0, 100) # modificación.\n",
    "        plt.tight_layout()   \n",
    "        \n",
    "    else:        \n",
    "        proporcion_filtered.reset_index(inplace=True)\n",
    "        sns.lmplot(x = var,y ='%fugas', data=proporcion_filtered,fit_reg=True,ci=None)"
   ]
  },
  {
   "cell_type": "code",
   "execution_count": null,
   "metadata": {
    "scrolled": true
   },
   "outputs": [],
   "source": [
    "for i in df_dic.columns:\n",
    "    proporciones_final (i, 'churn', df_dic)"
   ]
  },
  {
   "cell_type": "markdown",
   "metadata": {},
   "source": [
    "# Muestrear los datos, construyendo un dataset de train y test\n",
    "\n",
    "   - Muestreo estratificado en función de la variable respuesta para que en los splits sus categorías estén bien representadas.\n",
    "       - Split 80/20."
   ]
  },
  {
   "cell_type": "code",
   "execution_count": null,
   "metadata": {},
   "outputs": [],
   "source": [
    "X_train, X_test, y_train, y_test = train_test_split (df_dic.drop('churn', axis=1), \n",
    "                                                     df_dic.churn,\n",
    "                                                     test_size = 0.2,\n",
    "                                                     random_state = 0,\n",
    "                                                     stratify = df_dic.churn)"
   ]
  },
  {
   "cell_type": "code",
   "execution_count": null,
   "metadata": {},
   "outputs": [],
   "source": [
    "modelo1 = RandomForestClassifier().fit(X_train,y_train)"
   ]
  },
  {
   "cell_type": "code",
   "execution_count": null,
   "metadata": {},
   "outputs": [],
   "source": []
  },
  {
   "cell_type": "code",
   "execution_count": null,
   "metadata": {},
   "outputs": [],
   "source": [
    "¿y_pred == y_test"
   ]
  },
  {
   "cell_type": "markdown",
   "metadata": {},
   "source": [
    "## AUTOML COMO PRIMERA APROXIMACIÓN"
   ]
  },
  {
   "cell_type": "code",
   "execution_count": null,
   "metadata": {},
   "outputs": [],
   "source": [
    "import pycaret\n",
    "from pycaret.classification import *"
   ]
  },
  {
   "cell_type": "markdown",
   "metadata": {},
   "source": [
    "Creo la variable model_setup, instacio el setup. __Parámetros__:\n",
    "\n",
    "    - data\n",
    "    - target\n",
    "    - session_id: experimento"
   ]
  },
  {
   "cell_type": "code",
   "execution_count": null,
   "metadata": {},
   "outputs": [],
   "source": [
    "dic_full"
   ]
  },
  {
   "cell_type": "markdown",
   "metadata": {},
   "source": [
    "churn.churn.unique()"
   ]
  },
  {
   "cell_type": "code",
   "execution_count": null,
   "metadata": {},
   "outputs": [],
   "source": [
    "churn"
   ]
  },
  {
   "cell_type": "code",
   "execution_count": null,
   "metadata": {},
   "outputs": [],
   "source": [
    "dic_full['churn'] = churn.churn"
   ]
  },
  {
   "cell_type": "code",
   "execution_count": null,
   "metadata": {},
   "outputs": [],
   "source": [
    "model_setup = setup(data=df_dic, target=churn, session_id=1)"
   ]
  },
  {
   "cell_type": "markdown",
   "metadata": {},
   "source": [
    "\n",
    "\n",
    "Me dice los modelos que ha utilizado, sus métricas y el tiempo empleado"
   ]
  },
  {
   "cell_type": "code",
   "execution_count": null,
   "metadata": {
    "scrolled": true
   },
   "outputs": [],
   "source": [
    "best_models = compare_models()"
   ]
  },
  {
   "cell_type": "markdown",
   "metadata": {},
   "source": [
    "# Modelo gbc"
   ]
  },
  {
   "cell_type": "code",
   "execution_count": null,
   "metadata": {},
   "outputs": [],
   "source": [
    "model_gbc = create_model('gbc')"
   ]
  },
  {
   "cell_type": "markdown",
   "metadata": {},
   "source": [
    "# Hiperparámetros"
   ]
  },
  {
   "cell_type": "markdown",
   "metadata": {},
   "source": [
    "Imprimir todos los hiperparámetros, pero sin imputar, por defecto"
   ]
  },
  {
   "cell_type": "code",
   "execution_count": null,
   "metadata": {},
   "outputs": [],
   "source": [
    "print(model_gbc)"
   ]
  },
  {
   "cell_type": "markdown",
   "metadata": {},
   "source": [
    "# Análisis e Interpretabilidad"
   ]
  },
  {
   "cell_type": "markdown",
   "metadata": {},
   "source": [
    "### Importancia de las variables = Correlación con la target"
   ]
  },
  {
   "cell_type": "code",
   "execution_count": null,
   "metadata": {},
   "outputs": [],
   "source": [
    "plot_model(model_gbc, plot='feature')"
   ]
  },
  {
   "cell_type": "markdown",
   "metadata": {},
   "source": [
    "### Curva Roc"
   ]
  },
  {
   "cell_type": "markdown",
   "metadata": {},
   "source": [
    "Tanto para la clase no como para la clase sí"
   ]
  },
  {
   "cell_type": "code",
   "execution_count": null,
   "metadata": {},
   "outputs": [],
   "source": [
    "plot_model(model_gbc, plot='auc')"
   ]
  },
  {
   "cell_type": "markdown",
   "metadata": {},
   "source": [
    "### Matriz de confusión "
   ]
  },
  {
   "cell_type": "code",
   "execution_count": null,
   "metadata": {},
   "outputs": [],
   "source": [
    "plot_model(model_gbc, plot='confusion_matrix')"
   ]
  },
  {
   "cell_type": "code",
   "execution_count": null,
   "metadata": {},
   "outputs": [],
   "source": [
    "from sklearn.metrics import classification_report\n",
    "print(classification_report(y_test, y_pred_1))"
   ]
  },
  {
   "cell_type": "markdown",
   "metadata": {},
   "source": [
    "# Modelo1"
   ]
  },
  {
   "cell_type": "code",
   "execution_count": null,
   "metadata": {},
   "outputs": [],
   "source": [
    "modelo1 = RandomForestClassifier().fit(X_train, y_train)\n",
    "y_pred = modelo1.predict(X_test)"
   ]
  },
  {
   "cell_type": "markdown",
   "metadata": {},
   "source": [
    "# Modelo2 "
   ]
  },
  {
   "cell_type": "code",
   "execution_count": null,
   "metadata": {},
   "outputs": [],
   "source": [
    "modelo2 = XGBClassifier().fit(X_train, y_train)\n",
    "y_pred_2 = modelo2.predict(X_test)"
   ]
  },
  {
   "cell_type": "markdown",
   "metadata": {},
   "source": [
    "# Métricas de los modelos"
   ]
  },
  {
   "cell_type": "code",
   "execution_count": null,
   "metadata": {},
   "outputs": [],
   "source": [
    "def saca_metricas(y1, y2):\n",
    "    print('matriz de confusión')\n",
    "    print(confusion_matrix(y1, y2))\n",
    "    print('accuracy')\n",
    "    print(accuracy_score(y1, y2))\n",
    "    print('precision')\n",
    "    print(precision_score(y1, y2))\n",
    "    print('recall')\n",
    "    print(recall_score(y1, y2))\n",
    "    print('f1')\n",
    "    print(f1_score(y1, y2))\n",
    "    false_positive_rate, recall, thresholds = roc_curve(y1, y2)\n",
    "    roc_auc = auc(false_positive_rate, recall)\n",
    "    print('AUC')\n",
    "    print(roc_auc)\n",
    "    plt.plot(false_positive_rate, recall, 'b')\n",
    "    plt.plot([0, 1], [0, 1], 'r--')\n",
    "    plt.title('AUC = %0.2f' % roc_auc)  "
   ]
  },
  {
   "cell_type": "code",
   "execution_count": null,
   "metadata": {},
   "outputs": [],
   "source": [
    "saca_metricas(y_test, y_pred)"
   ]
  },
  {
   "cell_type": "markdown",
   "metadata": {},
   "source": [
    "# Mejora de modelos"
   ]
  },
  {
   "cell_type": "code",
   "execution_count": null,
   "metadata": {},
   "outputs": [],
   "source": [
    "grid_param = {\n",
    "    'n_estimators': [10, 100],\n",
    "    'criterion': ['gini', 'entropy'],\n",
    "    'bootstrap': [True, False],\n",
    "    'max_depth': [20,24]\n",
    "}"
   ]
  },
  {
   "cell_type": "code",
   "execution_count": null,
   "metadata": {},
   "outputs": [],
   "source": [
    "model_grid = GridSearchCV(estimator=modelo1,\n",
    "                     param_grid=grid_param,\n",
    "                     scoring='f1',\n",
    "                     cv=5,\n",
    "                     n_jobs=1)"
   ]
  },
  {
   "cell_type": "code",
   "execution_count": null,
   "metadata": {},
   "outputs": [],
   "source": [
    "model_grid.fit(X_train, y_train)\n",
    "print(model_grid.best_params_)\n",
    "print(model_grid.best_score_)"
   ]
  },
  {
   "cell_type": "code",
   "execution_count": null,
   "metadata": {},
   "outputs": [],
   "source": []
  },
  {
   "cell_type": "code",
   "execution_count": null,
   "metadata": {},
   "outputs": [],
   "source": []
  },
  {
   "cell_type": "code",
   "execution_count": null,
   "metadata": {},
   "outputs": [],
   "source": []
  }
 ],
 "metadata": {
  "kernelspec": {
   "display_name": "Python 3 (ipykernel)",
   "language": "python",
   "name": "python3"
  },
  "language_info": {
   "codemirror_mode": {
    "name": "ipython",
    "version": 3
   },
   "file_extension": ".py",
   "mimetype": "text/x-python",
   "name": "python",
   "nbconvert_exporter": "python",
   "pygments_lexer": "ipython3",
   "version": "3.9.13"
  }
 },
 "nbformat": 4,
 "nbformat_minor": 4
}
